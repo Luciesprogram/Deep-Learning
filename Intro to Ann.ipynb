{
 "cells": [
  {
   "cell_type": "markdown",
   "id": "50e04183-d3c6-4b39-b149-dcdab6b440c7",
   "metadata": {},
   "source": [
    "##### Perceptron: It is one of the simpliest ANN architectures\n",
    " There are two types of perceptron\n",
    "1. TLU(Threshold logic unit)\n",
    "2. LTU(Linear threshold unit) "
   ]
  },
  {
   "cell_type": "code",
   "execution_count": 1,
   "id": "62aebf59-893b-4edf-a52a-88f988ddd79f",
   "metadata": {},
   "outputs": [],
   "source": [
    "import numpy as np\n",
    "from sklearn.datasets import load_iris\n",
    "from sklearn.linear_model import Perceptron"
   ]
  },
  {
   "cell_type": "code",
   "execution_count": 2,
   "id": "d728fce7-0ad5-449e-b6ec-650e3ae6f850",
   "metadata": {},
   "outputs": [],
   "source": [
    "iris = load_iris(as_frame=True)\n",
    "X = iris.data[[\"petal length (cm)\",\"petal width (cm)\"]].values\n",
    "y = (iris.target == 0)\n",
    "\n",
    "per_clf = Perceptron()\n",
    "per_clf.fit(X,y)\n",
    "\n",
    "X_new = [[2,0.5],[3,1]]\n",
    "y_pred =  per_clf.predict(X_new)"
   ]
  },
  {
   "cell_type": "code",
   "execution_count": 3,
   "id": "fe1761e8-e656-4674-8937-2224d5435a37",
   "metadata": {},
   "outputs": [
    {
     "data": {
      "text/plain": [
       "array([False, False])"
      ]
     },
     "execution_count": 3,
     "metadata": {},
     "output_type": "execute_result"
    }
   ],
   "source": [
    "y_pred"
   ]
  },
  {
   "cell_type": "markdown",
   "id": "47e40e10-5b64-41a1-bbc7-a027d1523ae5",
   "metadata": {},
   "source": [
    "There are activations functions using which we can check or understand the errosr made by each layer."
   ]
  },
  {
   "cell_type": "markdown",
   "id": "6e5b60c8-ffa5-4f3e-996f-f8a72238d20c",
   "metadata": {},
   "source": [
    "Diffrent Activation functions are:\n",
    "1. Heaviside\n",
    "2. ReLU\n",
    "3. Sigmoid\n",
    "4. Tanh"
   ]
  },
  {
   "cell_type": "markdown",
   "id": "52efee2d-c8fd-4d50-bdb6-091589b77bb3",
   "metadata": {},
   "source": [
    "### Regression MLP"
   ]
  },
  {
   "cell_type": "markdown",
   "id": "7498132f-7632-4e8f-b06c-7813d293abd2",
   "metadata": {},
   "source": [
    "MLP can be used for regression purpose."
   ]
  },
  {
   "cell_type": "code",
   "execution_count": 4,
   "id": "dd14b18e-3590-4f85-b3b3-989dce1b8a64",
   "metadata": {},
   "outputs": [],
   "source": [
    "from sklearn.datasets import fetch_california_housing\n",
    "from sklearn.metrics import mean_squared_error\n",
    "from sklearn.model_selection import train_test_split\n",
    "from sklearn.neural_network import MLPRegressor\n",
    "from sklearn.pipeline import make_pipeline\n",
    "from sklearn.preprocessing import StandardScaler"
   ]
  },
  {
   "cell_type": "code",
   "execution_count": 5,
   "id": "cad6ae1e-425c-4c4d-a3f0-803dcee9363a",
   "metadata": {},
   "outputs": [],
   "source": [
    "housing = fetch_california_housing()\n",
    "X_train_full,X_test,y_train_full,y_test = train_test_split(housing.data,housing.target,random_state=42)\n",
    "X_train,X_valid,y_train,y_valid = train_test_split(X_train_full,y_train_full,random_state=42)"
   ]
  },
  {
   "cell_type": "code",
   "execution_count": 6,
   "id": "744cac8a-8378-4838-bebd-4002c2167ee3",
   "metadata": {},
   "outputs": [
    {
     "data": {
      "text/plain": [
       "0.505332665796866"
      ]
     },
     "execution_count": 6,
     "metadata": {},
     "output_type": "execute_result"
    }
   ],
   "source": [
    "mlp_reg = MLPRegressor(hidden_layer_sizes=[50,50,50],random_state=42)\n",
    "pipeline = make_pipeline(StandardScaler(),mlp_reg)\n",
    "pipeline.fit(X_train,y_train)\n",
    "y_pred = pipeline.predict(X_valid)\n",
    "rmse = mean_squared_error(y_valid,y_pred,squared=False)\n",
    "rmse\n",
    "# Here no activation function is used, so it free to output any value"
   ]
  },
  {
   "cell_type": "markdown",
   "id": "3c69462e-482e-4c2e-8031-da6187316135",
   "metadata": {},
   "source": [
    "if we want to gurantee that output is always positive, then we should use ReLU activation function or softplus activation function. softplus is close to zero when z is negative and close to z when z is positive.\n",
    "And if i want to guarntee that value should within a range then use sigmoid function."
   ]
  },
  {
   "cell_type": "markdown",
   "id": "3ea9b397-0943-4ba2-8ddf-5e0672774bba",
   "metadata": {},
   "source": [
    "1. for lot of outliers use MAE(mean absoulute error)\n",
    "2. Huber loss = mean squared error + mean absolute error\n",
    "3. MLPRegressor only supports MSE\n",
    "4. MSE, or Huber if outliers"
   ]
  },
  {
   "cell_type": "markdown",
   "id": "86dd1470-6971-4489-a2d3-edfacd02cd76",
   "metadata": {},
   "source": [
    "### Classification MLPs"
   ]
  },
  {
   "cell_type": "markdown",
   "id": "0b40290f-e904-45b4-83b0-3430b46e0340",
   "metadata": {},
   "source": [
    "### Implementing MLP with Keras"
   ]
  },
  {
   "cell_type": "markdown",
   "id": "1f5e4846-8072-4906-94e3-8b2e93fef640",
   "metadata": {},
   "source": [
    "Using keras to load the dataset"
   ]
  },
  {
   "cell_type": "code",
   "execution_count": 7,
   "id": "682419d2-1c91-42ce-b30e-c1f5b355aa30",
   "metadata": {},
   "outputs": [],
   "source": [
    "import tensorflow as tf"
   ]
  },
  {
   "cell_type": "code",
   "execution_count": 8,
   "id": "8f23b683-b1c9-4d0a-8ec5-1ff5095e735a",
   "metadata": {},
   "outputs": [],
   "source": [
    "fashion_mnist = tf.keras.datasets.fashion_mnist.load_data()\n",
    "(X_train_full,y_train_full),(X_test,y_test) = fashion_mnist\n",
    "X_train,y_train = X_train_full[:-5000],y_train_full[:-5000]\n",
    "X_valid,y_valid = X_train_full[-5000:],y_train_full[-5000:]"
   ]
  },
  {
   "cell_type": "code",
   "execution_count": 9,
   "id": "053b3ce1-3ffb-4324-a500-7abcf20a7eed",
   "metadata": {},
   "outputs": [
    {
     "data": {
      "text/plain": [
       "(55000, 28, 28)"
      ]
     },
     "execution_count": 9,
     "metadata": {},
     "output_type": "execute_result"
    }
   ],
   "source": [
    "X_train.shape"
   ]
  },
  {
   "cell_type": "code",
   "execution_count": 10,
   "id": "f87b88e5-8b33-43d1-8943-d07aff4dd850",
   "metadata": {},
   "outputs": [
    {
     "data": {
      "text/plain": [
       "dtype('uint8')"
      ]
     },
     "execution_count": 10,
     "metadata": {},
     "output_type": "execute_result"
    }
   ],
   "source": [
    "X_train.dtype"
   ]
  },
  {
   "cell_type": "code",
   "execution_count": 11,
   "id": "bea06a59-1277-428c-bafd-7d6801400f9b",
   "metadata": {},
   "outputs": [],
   "source": [
    "X_train,X_valid,X_test = X_train/255.,X_valid/255.,X_test/255"
   ]
  },
  {
   "cell_type": "code",
   "execution_count": 12,
   "id": "0741a14b-85d9-432c-868d-a8c70a875220",
   "metadata": {},
   "outputs": [
    {
     "data": {
      "image/png": "[encoded data removed]",
      "text/plain": [
       "<Figure size 640x480 with 1 Axes>"
      ]
     },
     "metadata": {},
     "output_type": "display_data"
    }
   ],
   "source": [
    "# extra code\n",
    "import matplotlib.pyplot as plt\n",
    "plt.imshow(X_train[0], cmap=\"binary\")\n",
    "plt.axis('off')\n",
    "plt.show()"
   ]
  },
  {
   "cell_type": "code",
   "execution_count": 13,
   "id": "32aca6a0-045d-4bde-9b65-96e3fd64ea18",
   "metadata": {},
   "outputs": [],
   "source": [
    "class_names = [\"T-shirt/top\",\"Trouser\",\"Pullover\",\"Dress\",\"Coat\",\"Sandal\",\"Shirt\",\"Sneaker\",\"Bag\",\"Ankle boot\"]"
   ]
  },
  {
   "cell_type": "code",
   "execution_count": 14,
   "id": "eb03e36b-74e2-4e4a-9fbb-b4efa9df199e",
   "metadata": {},
   "outputs": [
    {
     "data": {
      "text/plain": [
       "'Ankle boot'"
      ]
     },
     "execution_count": 14,
     "metadata": {},
     "output_type": "execute_result"
    }
   ],
   "source": [
    "class_names[y_train[0]]"
   ]
  },
  {
   "cell_type": "code",
   "execution_count": 15,
   "id": "b5b5c875-0092-442d-a547-4826aacf04e6",
   "metadata": {},
   "outputs": [
    {
     "data": {
      "image/png": "[encoded data removed]",
      "text/plain": [
       "<Figure size 1200x480 with 40 Axes>"
      ]
     },
     "metadata": {},
     "output_type": "display_data"
    }
   ],
   "source": [
    "# extra code – this cell generates and saves Figure 10–10\n",
    "\n",
    "n_rows = 4\n",
    "n_cols = 10\n",
    "plt.figure(figsize=(n_cols * 1.2, n_rows * 1.2))\n",
    "for row in range(n_rows):\n",
    "    for col in range(n_cols):\n",
    "        index = n_cols * row + col\n",
    "        plt.subplot(n_rows, n_cols, index + 1)\n",
    "        plt.imshow(X_train[index], cmap=\"binary\", interpolation=\"nearest\")\n",
    "        plt.axis('off')\n",
    "        plt.title(class_names[y_train[index]])\n",
    "plt.subplots_adjust(wspace=0.2, hspace=0.5)\n",
    "\n",
    "\n",
    "plt.show()"
   ]
  },
  {
   "cell_type": "markdown",
   "id": "e9aa64e7-fea5-4435-be5e-096fab1ca930",
   "metadata": {},
   "source": [
    "Creating the model using the sequential API"
   ]
  },
  {
   "cell_type": "code",
   "execution_count": 16,
   "id": "f795a037-0322-4fca-ae46-1e027bcc32e3",
   "metadata": {},
   "outputs": [
    {
     "name": "stderr",
     "output_type": "stream",
     "text": [
      "C:\\Users\\acer\\ML_PATH\\my_env\\lib\\site-packages\\keras\\src\\layers\\reshaping\\flatten.py:37: UserWarning: Do not pass an `input_shape`/`input_dim` argument to a layer. When using Sequential models, prefer using an `Input(shape)` object as the first layer in the model instead.\n",
      "  super().__init__(**kwargs)\n"
     ]
    }
   ],
   "source": [
    "model = tf.keras.Sequential([\n",
    "    tf.keras.layers.Flatten(input_shape=[28,28]),\n",
    "    tf.keras.layers.Dense(300,activation=\"relu\"), # 300 nuurons\n",
    "    tf.keras.layers.Dense(100,activation=\"relu\"),\n",
    "    tf.keras.layers.Dense(10,activation=\"softmax\")\n",
    "])"
   ]
  },
  {
   "cell_type": "code",
   "execution_count": 17,
   "id": "51a88bac-4ab7-464c-bb4e-2dca3946484d",
   "metadata": {},
   "outputs": [
    {
     "data": {
      "text/html": [
       "<pre style=\"white-space:pre;overflow-x:auto;line-height:normal;font-family:Menlo,'DejaVu Sans Mono',consolas,'Courier New',monospace\"><span style=\"font-weight: bold\">Model: \"sequential\"</span>\n",
       "</pre>\n"
      ],
      "text/plain": [
       "\u001b[1mModel: \"sequential\"\u001b[0m\n"
      ]
     },
     "metadata": {},
     "output_type": "display_data"
    },
    {
     "data": {
      "text/html": [
       "<pre style=\"white-space:pre;overflow-x:auto;line-height:normal;font-family:Menlo,'DejaVu Sans Mono',consolas,'Courier New',monospace\">┏━━━━━━━━━━━━━━━━━━━━━━━━━━━━━━━━━━━━━━┳━━━━━━━━━━━━━━━━━━━━━━━━━━━━━┳━━━━━━━━━━━━━━━━━┓\n",
       "┃<span style=\"font-weight: bold\"> Layer (type)                         </span>┃<span style=\"font-weight: bold\"> Output Shape                </span>┃<span style=\"font-weight: bold\">         Param # </span>┃\n",
       "┡━━━━━━━━━━━━━━━━━━━━━━━━━━━━━━━━━━━━━━╇━━━━━━━━━━━━━━━━━━━━━━━━━━━━━╇━━━━━━━━━━━━━━━━━┩\n",
       "│ flatten (<span style=\"color: #0087ff; text-decoration-color: #0087ff\">Flatten</span>)                    │ (<span style=\"color: #00d7ff; text-decoration-color: #00d7ff\">None</span>, <span style=\"color: #00af00; text-decoration-color: #00af00\">784</span>)                 │               <span style=\"color: #00af00; text-decoration-color: #00af00\">0</span> │\n",
       "├──────────────────────────────────────┼─────────────────────────────┼─────────────────┤\n",
       "│ dense (<span style=\"color: #0087ff; text-decoration-color: #0087ff\">Dense</span>)                        │ (<span style=\"color: #00d7ff; text-decoration-color: #00d7ff\">None</span>, <span style=\"color: #00af00; text-decoration-color: #00af00\">300</span>)                 │         <span style=\"color: #00af00; text-decoration-color: #00af00\">235,500</span> │\n",
       "├──────────────────────────────────────┼─────────────────────────────┼─────────────────┤\n",
       "│ dense_1 (<span style=\"color: #0087ff; text-decoration-color: #0087ff\">Dense</span>)                      │ (<span style=\"color: #00d7ff; text-decoration-color: #00d7ff\">None</span>, <span style=\"color: #00af00; text-decoration-color: #00af00\">100</span>)                 │          <span style=\"color: #00af00; text-decoration-color: #00af00\">30,100</span> │\n",
       "├──────────────────────────────────────┼─────────────────────────────┼─────────────────┤\n",
       "│ dense_2 (<span style=\"color: #0087ff; text-decoration-color: #0087ff\">Dense</span>)                      │ (<span style=\"color: #00d7ff; text-decoration-color: #00d7ff\">None</span>, <span style=\"color: #00af00; text-decoration-color: #00af00\">10</span>)                  │           <span style=\"color: #00af00; text-decoration-color: #00af00\">1,010</span> │\n",
       "└──────────────────────────────────────┴─────────────────────────────┴─────────────────┘\n",
       "</pre>\n"
      ],
      "text/plain": [
       "┏━━━━━━━━━━━━━━━━━━━━━━━━━━━━━━━━━━━━━━┳━━━━━━━━━━━━━━━━━━━━━━━━━━━━━┳━━━━━━━━━━━━━━━━━┓\n",
       "┃\u001b[1m \u001b[0m\u001b[1mLayer (type)                        \u001b[0m\u001b[1m \u001b[0m┃\u001b[1m \u001b[0m\u001b[1mOutput Shape               \u001b[0m\u001b[1m \u001b[0m┃\u001b[1m \u001b[0m\u001b[1m        Param #\u001b[0m\u001b[1m \u001b[0m┃\n",
       "┡━━━━━━━━━━━━━━━━━━━━━━━━━━━━━━━━━━━━━━╇━━━━━━━━━━━━━━━━━━━━━━━━━━━━━╇━━━━━━━━━━━━━━━━━┩\n",
       "│ flatten (\u001b[38;5;33mFlatten\u001b[0m)                    │ (\u001b[38;5;45mNone\u001b[0m, \u001b[38;5;34m784\u001b[0m)                 │               \u001b[38;5;34m0\u001b[0m │\n",
       "├──────────────────────────────────────┼─────────────────────────────┼─────────────────┤\n",
       "│ dense (\u001b[38;5;33mDense\u001b[0m)                        │ (\u001b[38;5;45mNone\u001b[0m, \u001b[38;5;34m300\u001b[0m)                 │         \u001b[38;5;34m235,500\u001b[0m │\n",
       "├──────────────────────────────────────┼─────────────────────────────┼─────────────────┤\n",
       "│ dense_1 (\u001b[38;5;33mDense\u001b[0m)                      │ (\u001b[38;5;45mNone\u001b[0m, \u001b[38;5;34m100\u001b[0m)                 │          \u001b[38;5;34m30,100\u001b[0m │\n",
       "├──────────────────────────────────────┼─────────────────────────────┼─────────────────┤\n",
       "│ dense_2 (\u001b[38;5;33mDense\u001b[0m)                      │ (\u001b[38;5;45mNone\u001b[0m, \u001b[38;5;34m10\u001b[0m)                  │           \u001b[38;5;34m1,010\u001b[0m │\n",
       "└──────────────────────────────────────┴─────────────────────────────┴─────────────────┘\n"
      ]
     },
     "metadata": {},
     "output_type": "display_data"
    },
    {
     "data": {
      "text/html": [
       "<pre style=\"white-space:pre;overflow-x:auto;line-height:normal;font-family:Menlo,'DejaVu Sans Mono',consolas,'Courier New',monospace\"><span style=\"font-weight: bold\"> Total params: </span><span style=\"color: #00af00; text-decoration-color: #00af00\">266,610</span> (1.02 MB)\n",
       "</pre>\n"
      ],
      "text/plain": [
       "\u001b[1m Total params: \u001b[0m\u001b[38;5;34m266,610\u001b[0m (1.02 MB)\n"
      ]
     },
     "metadata": {},
     "output_type": "display_data"
    },
    {
     "data": {
      "text/html": [
       "<pre style=\"white-space:pre;overflow-x:auto;line-height:normal;font-family:Menlo,'DejaVu Sans Mono',consolas,'Courier New',monospace\"><span style=\"font-weight: bold\"> Trainable params: </span><span style=\"color: #00af00; text-decoration-color: #00af00\">266,610</span> (1.02 MB)\n",
       "</pre>\n"
      ],
      "text/plain": [
       "\u001b[1m Trainable params: \u001b[0m\u001b[38;5;34m266,610\u001b[0m (1.02 MB)\n"
      ]
     },
     "metadata": {},
     "output_type": "display_data"
    },
    {
     "data": {
      "text/html": [
       "<pre style=\"white-space:pre;overflow-x:auto;line-height:normal;font-family:Menlo,'DejaVu Sans Mono',consolas,'Courier New',monospace\"><span style=\"font-weight: bold\"> Non-trainable params: </span><span style=\"color: #00af00; text-decoration-color: #00af00\">0</span> (0.00 B)\n",
       "</pre>\n"
      ],
      "text/plain": [
       "\u001b[1m Non-trainable params: \u001b[0m\u001b[38;5;34m0\u001b[0m (0.00 B)\n"
      ]
     },
     "metadata": {},
     "output_type": "display_data"
    }
   ],
   "source": [
    "model.summary()"
   ]
  },
  {
   "cell_type": "code",
   "execution_count": 18,
   "id": "838a4c9a-1d28-478d-b251-08f99f78c52e",
   "metadata": {},
   "outputs": [
    {
     "data": {
      "text/plain": [
       "[<Flatten name=flatten, built=True>,\n",
       " <Dense name=dense, built=True>,\n",
       " <Dense name=dense_1, built=True>,\n",
       " <Dense name=dense_2, built=True>]"
      ]
     },
     "execution_count": 18,
     "metadata": {},
     "output_type": "execute_result"
    }
   ],
   "source": [
    "model.layers"
   ]
  },
  {
   "cell_type": "code",
   "execution_count": 19,
   "id": "60a2ab21-d3d9-4334-b3a9-ae30e92fd351",
   "metadata": {},
   "outputs": [
    {
     "data": {
      "text/plain": [
       "'dense'"
      ]
     },
     "execution_count": 19,
     "metadata": {},
     "output_type": "execute_result"
    }
   ],
   "source": [
    "hidden1 = model.layers[1]\n",
    "hidden1.name"
   ]
  },
  {
   "cell_type": "code",
   "execution_count": 20,
   "id": "846ddd05-8b19-415f-b6d0-b768412efdb7",
   "metadata": {},
   "outputs": [
    {
     "data": {
      "text/plain": [
       "True"
      ]
     },
     "execution_count": 20,
     "metadata": {},
     "output_type": "execute_result"
    }
   ],
   "source": [
    "model.get_layer('dense') is hidden1"
   ]
  },
  {
   "cell_type": "code",
   "execution_count": 21,
   "id": "a47d53b1-2d65-405d-adf7-de04c0cae3a8",
   "metadata": {},
   "outputs": [],
   "source": [
    "weights,biases = hidden1.get_weights()"
   ]
  },
  {
   "cell_type": "code",
   "execution_count": 22,
   "id": "9fb3d36f-5aff-42b2-b32d-0b95eb5b1eec",
   "metadata": {},
   "outputs": [
    {
     "data": {
      "text/plain": [
       "array([[-0.06198386,  0.05754383, -0.03547434, ...,  0.03490308,\n",
       "         0.05874056, -0.03211869],\n",
       "       [ 0.00972121,  0.00419571,  0.05504276, ..., -0.06859955,\n",
       "         0.05150466,  0.00777358],\n",
       "       [-0.06918779, -0.02917139,  0.0215403 , ..., -0.00935617,\n",
       "        -0.00702708,  0.01979319],\n",
       "       ...,\n",
       "       [-0.03139898, -0.02881259,  0.02339369, ..., -0.05189317,\n",
       "         0.02225412, -0.00188965],\n",
       "       [-0.04807038,  0.04537395,  0.03437307, ..., -0.07152284,\n",
       "         0.056833  , -0.01021826],\n",
       "       [-0.05842634,  0.0022841 ,  0.07417423, ..., -0.06961661,\n",
       "        -0.00141695,  0.01101652]], dtype=float32)"
      ]
     },
     "execution_count": 22,
     "metadata": {},
     "output_type": "execute_result"
    }
   ],
   "source": [
    "weights"
   ]
  },
  {
   "cell_type": "code",
   "execution_count": 23,
   "id": "6ea2ca6b-e9cb-4e1c-919f-1898d92846c0",
   "metadata": {},
   "outputs": [
    {
     "data": {
      "text/plain": [
       "(784, 300)"
      ]
     },
     "execution_count": 23,
     "metadata": {},
     "output_type": "execute_result"
    }
   ],
   "source": [
    "weights.shape"
   ]
  },
  {
   "cell_type": "code",
   "execution_count": 24,
   "id": "b9047369-6bb2-4610-a557-a21f7bed87aa",
   "metadata": {},
   "outputs": [
    {
     "data": {
      "text/plain": [
       "array([0., 0., 0., 0., 0., 0., 0., 0., 0., 0., 0., 0., 0., 0., 0., 0., 0.,\n",
       "       0., 0., 0., 0., 0., 0., 0., 0., 0., 0., 0., 0., 0., 0., 0., 0., 0.,\n",
       "       0., 0., 0., 0., 0., 0., 0., 0., 0., 0., 0., 0., 0., 0., 0., 0., 0.,\n",
       "       0., 0., 0., 0., 0., 0., 0., 0., 0., 0., 0., 0., 0., 0., 0., 0., 0.,\n",
       "       0., 0., 0., 0., 0., 0., 0., 0., 0., 0., 0., 0., 0., 0., 0., 0., 0.,\n",
       "       0., 0., 0., 0., 0., 0., 0., 0., 0., 0., 0., 0., 0., 0., 0., 0., 0.,\n",
       "       0., 0., 0., 0., 0., 0., 0., 0., 0., 0., 0., 0., 0., 0., 0., 0., 0.,\n",
       "       0., 0., 0., 0., 0., 0., 0., 0., 0., 0., 0., 0., 0., 0., 0., 0., 0.,\n",
       "       0., 0., 0., 0., 0., 0., 0., 0., 0., 0., 0., 0., 0., 0., 0., 0., 0.,\n",
       "       0., 0., 0., 0., 0., 0., 0., 0., 0., 0., 0., 0., 0., 0., 0., 0., 0.,\n",
       "       0., 0., 0., 0., 0., 0., 0., 0., 0., 0., 0., 0., 0., 0., 0., 0., 0.,\n",
       "       0., 0., 0., 0., 0., 0., 0., 0., 0., 0., 0., 0., 0., 0., 0., 0., 0.,\n",
       "       0., 0., 0., 0., 0., 0., 0., 0., 0., 0., 0., 0., 0., 0., 0., 0., 0.,\n",
       "       0., 0., 0., 0., 0., 0., 0., 0., 0., 0., 0., 0., 0., 0., 0., 0., 0.,\n",
       "       0., 0., 0., 0., 0., 0., 0., 0., 0., 0., 0., 0., 0., 0., 0., 0., 0.,\n",
       "       0., 0., 0., 0., 0., 0., 0., 0., 0., 0., 0., 0., 0., 0., 0., 0., 0.,\n",
       "       0., 0., 0., 0., 0., 0., 0., 0., 0., 0., 0., 0., 0., 0., 0., 0., 0.,\n",
       "       0., 0., 0., 0., 0., 0., 0., 0., 0., 0., 0.], dtype=float32)"
      ]
     },
     "execution_count": 24,
     "metadata": {},
     "output_type": "execute_result"
    }
   ],
   "source": [
    "biases"
   ]
  },
  {
   "cell_type": "code",
   "execution_count": 25,
   "id": "353b137c-4cbe-44e2-9c7c-124abf43ec0d",
   "metadata": {},
   "outputs": [
    {
     "data": {
      "text/plain": [
       "(300,)"
      ]
     },
     "execution_count": 25,
     "metadata": {},
     "output_type": "execute_result"
    }
   ],
   "source": [
    "biases.shape"
   ]
  },
  {
   "cell_type": "markdown",
   "id": "aed0085f-7dab-4c3b-86d7-3c12b615535e",
   "metadata": {},
   "source": [
    "if we don't want to specify the input shape then it is ok, keras will simplify it and you have to wait until it knows the shape of the input."
   ]
  },
  {
   "cell_type": "markdown",
   "id": "71bb3eac-3126-4e57-adfe-a3783529c783",
   "metadata": {},
   "source": [
    "#### Compiling the model"
   ]
  },
  {
   "cell_type": "code",
   "execution_count": 26,
   "id": "85bee570-cb60-4306-abea-42d2435aa035",
   "metadata": {},
   "outputs": [],
   "source": [
    "model.compile(loss=\"sparse_categorical_crossentropy\", # using loss=\"sparse_categorical_crossentropy\" is equivalent to using loss=tf.keras.losses.sparse_categorical_crossentropy \n",
    "             optimizer=\"sgd\",\n",
    "             metrics=[\"accuracy\"])"
   ]
  },
  {
   "cell_type": "markdown",
   "id": "ffd12ca6-1cd6-44a1-bed8-4fea9658ef93",
   "metadata": {},
   "source": [
    "Here we have sparse labels(for each instance, there is just a target class index, from 0 to 9), that's the reason we are using loss=\"sparse_categorical_crossentropy\".if instead we had one target probability per class for each instance(such as one-hot vectors, eg[0,0,0,1,0,0,0] to represent class 3), then we need to use the categorical_crossentropy loss instead. if we have binary or multilabel binay classification, then we should use \"sigmoid\" activation function and in output layer instead of the \"softmax\" activation function, and we would use \"binary_crossentropy\" loss."
   ]
  },
  {
   "cell_type": "markdown",
   "id": "ac96e729-511c-40d6-b7e2-f3ba05a6a208",
   "metadata": {},
   "source": [
    "#### Training and evaluating the model"
   ]
  },
  {
   "cell_type": "code",
   "execution_count": 27,
   "id": "d321e2c0-15a6-447c-b64e-bfdda7039901",
   "metadata": {},
   "outputs": [
    {
     "name": "stdout",
     "output_type": "stream",
     "text": [
      "Epoch 1/30\n",
      "\u001b[1m1719/1719\u001b[0m \u001b[32m━━━━━━━━━━━━━━━━━━━━\u001b[0m\u001b[37m\u001b[0m \u001b[1m9s\u001b[0m 5ms/step - accuracy: 0.6811 - loss: 0.9797 - val_accuracy: 0.8028 - val_loss: 0.5432\n",
      "Epoch 2/30\n",
      "\u001b[1m1719/1719\u001b[0m \u001b[32m━━━━━━━━━━━━━━━━━━━━\u001b[0m\u001b[37m\u001b[0m \u001b[1m8s\u001b[0m 5ms/step - accuracy: 0.8264 - loss: 0.5050 - val_accuracy: 0.8364 - val_loss: 0.4532\n",
      "Epoch 3/30\n",
      "\u001b[1m1719/1719\u001b[0m \u001b[32m━━━━━━━━━━━━━━━━━━━━\u001b[0m\u001b[37m\u001b[0m \u001b[1m8s\u001b[0m 4ms/step - accuracy: 0.8431 - loss: 0.4517 - val_accuracy: 0.8430 - val_loss: 0.4258\n",
      "Epoch 4/30\n",
      "\u001b[1m1719/1719\u001b[0m \u001b[32m━━━━━━━━━━━━━━━━━━━━\u001b[0m\u001b[37m\u001b[0m \u001b[1m10s\u001b[0m 5ms/step - accuracy: 0.8529 - loss: 0.4220 - val_accuracy: 0.8496 - val_loss: 0.4153\n",
      "Epoch 5/30\n",
      "\u001b[1m1719/1719\u001b[0m \u001b[32m━━━━━━━━━━━━━━━━━━━━\u001b[0m\u001b[37m\u001b[0m \u001b[1m8s\u001b[0m 5ms/step - accuracy: 0.8607 - loss: 0.4019 - val_accuracy: 0.8612 - val_loss: 0.3992\n",
      "Epoch 6/30\n",
      "\u001b[1m1719/1719\u001b[0m \u001b[32m━━━━━━━━━━━━━━━━━━━━\u001b[0m\u001b[37m\u001b[0m \u001b[1m8s\u001b[0m 5ms/step - accuracy: 0.8649 - loss: 0.3862 - val_accuracy: 0.8594 - val_loss: 0.3752\n",
      "Epoch 7/30\n",
      "\u001b[1m1719/1719\u001b[0m \u001b[32m━━━━━━━━━━━━━━━━━━━━\u001b[0m\u001b[37m\u001b[0m \u001b[1m10s\u001b[0m 5ms/step - accuracy: 0.8703 - loss: 0.3725 - val_accuracy: 0.8684 - val_loss: 0.3646\n",
      "Epoch 8/30\n",
      "\u001b[1m1719/1719\u001b[0m \u001b[32m━━━━━━━━━━━━━━━━━━━━\u001b[0m\u001b[37m\u001b[0m \u001b[1m10s\u001b[0m 5ms/step - accuracy: 0.8731 - loss: 0.3560 - val_accuracy: 0.8700 - val_loss: 0.3707\n",
      "Epoch 9/30\n",
      "\u001b[1m1719/1719\u001b[0m \u001b[32m━━━━━━━━━━━━━━━━━━━━\u001b[0m\u001b[37m\u001b[0m \u001b[1m10s\u001b[0m 5ms/step - accuracy: 0.8787 - loss: 0.3467 - val_accuracy: 0.8652 - val_loss: 0.3726\n",
      "Epoch 10/30\n",
      "\u001b[1m1719/1719\u001b[0m \u001b[32m━━━━━━━━━━━━━━━━━━━━\u001b[0m\u001b[37m\u001b[0m \u001b[1m9s\u001b[0m 5ms/step - accuracy: 0.8822 - loss: 0.3373 - val_accuracy: 0.8668 - val_loss: 0.3681\n",
      "Epoch 11/30\n",
      "\u001b[1m1719/1719\u001b[0m \u001b[32m━━━━━━━━━━━━━━━━━━━━\u001b[0m\u001b[37m\u001b[0m \u001b[1m8s\u001b[0m 5ms/step - accuracy: 0.8828 - loss: 0.3267 - val_accuracy: 0.8734 - val_loss: 0.3513\n",
      "Epoch 12/30\n",
      "\u001b[1m1719/1719\u001b[0m \u001b[32m━━━━━━━━━━━━━━━━━━━━\u001b[0m\u001b[37m\u001b[0m \u001b[1m10s\u001b[0m 5ms/step - accuracy: 0.8865 - loss: 0.3219 - val_accuracy: 0.8768 - val_loss: 0.3464\n",
      "Epoch 13/30\n",
      "\u001b[1m1719/1719\u001b[0m \u001b[32m━━━━━━━━━━━━━━━━━━━━\u001b[0m\u001b[37m\u001b[0m \u001b[1m8s\u001b[0m 5ms/step - accuracy: 0.8889 - loss: 0.3120 - val_accuracy: 0.8752 - val_loss: 0.3434\n",
      "Epoch 14/30\n",
      "\u001b[1m1719/1719\u001b[0m \u001b[32m━━━━━━━━━━━━━━━━━━━━\u001b[0m\u001b[37m\u001b[0m \u001b[1m10s\u001b[0m 5ms/step - accuracy: 0.8900 - loss: 0.3047 - val_accuracy: 0.8808 - val_loss: 0.3274\n",
      "Epoch 15/30\n",
      "\u001b[1m1719/1719\u001b[0m \u001b[32m━━━━━━━━━━━━━━━━━━━━\u001b[0m\u001b[37m\u001b[0m \u001b[1m8s\u001b[0m 5ms/step - accuracy: 0.8956 - loss: 0.2957 - val_accuracy: 0.8808 - val_loss: 0.3303\n",
      "Epoch 16/30\n",
      "\u001b[1m1719/1719\u001b[0m \u001b[32m━━━━━━━━━━━━━━━━━━━━\u001b[0m\u001b[37m\u001b[0m \u001b[1m8s\u001b[0m 5ms/step - accuracy: 0.8970 - loss: 0.2880 - val_accuracy: 0.8816 - val_loss: 0.3256\n",
      "Epoch 17/30\n",
      "\u001b[1m1719/1719\u001b[0m \u001b[32m━━━━━━━━━━━━━━━━━━━━\u001b[0m\u001b[37m\u001b[0m \u001b[1m8s\u001b[0m 5ms/step - accuracy: 0.8958 - loss: 0.2888 - val_accuracy: 0.8754 - val_loss: 0.3406\n",
      "Epoch 18/30\n",
      "\u001b[1m1719/1719\u001b[0m \u001b[32m━━━━━━━━━━━━━━━━━━━━\u001b[0m\u001b[37m\u001b[0m \u001b[1m8s\u001b[0m 5ms/step - accuracy: 0.8984 - loss: 0.2854 - val_accuracy: 0.8714 - val_loss: 0.3491\n",
      "Epoch 19/30\n",
      "\u001b[1m1719/1719\u001b[0m \u001b[32m━━━━━━━━━━━━━━━━━━━━\u001b[0m\u001b[37m\u001b[0m \u001b[1m8s\u001b[0m 5ms/step - accuracy: 0.9013 - loss: 0.2741 - val_accuracy: 0.8822 - val_loss: 0.3265\n",
      "Epoch 20/30\n",
      "\u001b[1m1719/1719\u001b[0m \u001b[32m━━━━━━━━━━━━━━━━━━━━\u001b[0m\u001b[37m\u001b[0m \u001b[1m8s\u001b[0m 5ms/step - accuracy: 0.9003 - loss: 0.2708 - val_accuracy: 0.8850 - val_loss: 0.3151\n",
      "Epoch 21/30\n",
      "\u001b[1m1719/1719\u001b[0m \u001b[32m━━━━━━━━━━━━━━━━━━━━\u001b[0m\u001b[37m\u001b[0m \u001b[1m8s\u001b[0m 5ms/step - accuracy: 0.9064 - loss: 0.2624 - val_accuracy: 0.8844 - val_loss: 0.3196\n",
      "Epoch 22/30\n",
      "\u001b[1m1719/1719\u001b[0m \u001b[32m━━━━━━━━━━━━━━━━━━━━\u001b[0m\u001b[37m\u001b[0m \u001b[1m8s\u001b[0m 4ms/step - accuracy: 0.9077 - loss: 0.2549 - val_accuracy: 0.8742 - val_loss: 0.3346\n",
      "Epoch 23/30\n",
      "\u001b[1m1719/1719\u001b[0m \u001b[32m━━━━━━━━━━━━━━━━━━━━\u001b[0m\u001b[37m\u001b[0m \u001b[1m8s\u001b[0m 3ms/step - accuracy: 0.9084 - loss: 0.2567 - val_accuracy: 0.8714 - val_loss: 0.3423\n",
      "Epoch 24/30\n",
      "\u001b[1m1719/1719\u001b[0m \u001b[32m━━━━━━━━━━━━━━━━━━━━\u001b[0m\u001b[37m\u001b[0m \u001b[1m5s\u001b[0m 3ms/step - accuracy: 0.9083 - loss: 0.2523 - val_accuracy: 0.8862 - val_loss: 0.3128\n",
      "Epoch 25/30\n",
      "\u001b[1m1719/1719\u001b[0m \u001b[32m━━━━━━━━━━━━━━━━━━━━\u001b[0m\u001b[37m\u001b[0m \u001b[1m5s\u001b[0m 3ms/step - accuracy: 0.9108 - loss: 0.2488 - val_accuracy: 0.8852 - val_loss: 0.3215\n",
      "Epoch 26/30\n",
      "\u001b[1m1719/1719\u001b[0m \u001b[32m━━━━━━━━━━━━━━━━━━━━\u001b[0m\u001b[37m\u001b[0m \u001b[1m5s\u001b[0m 3ms/step - accuracy: 0.9140 - loss: 0.2391 - val_accuracy: 0.8864 - val_loss: 0.3118\n",
      "Epoch 27/30\n",
      "\u001b[1m1719/1719\u001b[0m \u001b[32m━━━━━━━━━━━━━━━━━━━━\u001b[0m\u001b[37m\u001b[0m \u001b[1m10s\u001b[0m 3ms/step - accuracy: 0.9156 - loss: 0.2375 - val_accuracy: 0.8832 - val_loss: 0.3278\n",
      "Epoch 28/30\n",
      "\u001b[1m1719/1719\u001b[0m \u001b[32m━━━━━━━━━━━━━━━━━━━━\u001b[0m\u001b[37m\u001b[0m \u001b[1m5s\u001b[0m 3ms/step - accuracy: 0.9129 - loss: 0.2394 - val_accuracy: 0.8868 - val_loss: 0.3221\n",
      "Epoch 29/30\n",
      "\u001b[1m1719/1719\u001b[0m \u001b[32m━━━━━━━━━━━━━━━━━━━━\u001b[0m\u001b[37m\u001b[0m \u001b[1m5s\u001b[0m 3ms/step - accuracy: 0.9179 - loss: 0.2259 - val_accuracy: 0.8832 - val_loss: 0.3217\n",
      "Epoch 30/30\n",
      "\u001b[1m1719/1719\u001b[0m \u001b[32m━━━━━━━━━━━━━━━━━━━━\u001b[0m\u001b[37m\u001b[0m \u001b[1m5s\u001b[0m 3ms/step - accuracy: 0.9195 - loss: 0.2234 - val_accuracy: 0.8890 - val_loss: 0.3086\n"
     ]
    }
   ],
   "source": [
    "history = model.fit(X_train,y_train,epochs=30,validation_data=(X_valid,y_valid))"
   ]
  },
  {
   "cell_type": "code",
   "execution_count": 28,
   "id": "1cdc0562-6249-43a4-b70d-d5b3cb4b0784",
   "metadata": {},
   "outputs": [
    {
     "data": {
      "text/plain": [
       "{'verbose': 'auto', 'epochs': 30, 'steps': 1719}"
      ]
     },
     "execution_count": 28,
     "metadata": {},
     "output_type": "execute_result"
    }
   ],
   "source": [
    "history.params"
   ]
  },
  {
   "cell_type": "code",
   "execution_count": 29,
   "id": "e8605914-b925-4388-9863-9948859c3f5e",
   "metadata": {},
   "outputs": [
    {
     "data": {
      "text/plain": [
       "{'accuracy': [0.762363612651825,\n",
       "  0.8314363360404968,\n",
       "  0.8467636108398438,\n",
       "  0.8548181653022766,\n",
       "  0.8621090650558472,\n",
       "  0.8677999973297119,\n",
       "  0.8714908957481384,\n",
       "  0.8744363784790039,\n",
       "  0.878000020980835,\n",
       "  0.8816545605659485,\n",
       "  0.8834545612335205,\n",
       "  0.8867999911308289,\n",
       "  0.8903090953826904,\n",
       "  0.8907999992370605,\n",
       "  0.8946727514266968,\n",
       "  0.895763635635376,\n",
       "  0.8965636491775513,\n",
       "  0.8996909260749817,\n",
       "  0.9004727005958557,\n",
       "  0.9027818441390991,\n",
       "  0.9057636260986328,\n",
       "  0.9063454270362854,\n",
       "  0.9082000255584717,\n",
       "  0.9093818068504333,\n",
       "  0.9117090702056885,\n",
       "  0.9127272963523865,\n",
       "  0.9146727323532104,\n",
       "  0.9157817959785461,\n",
       "  0.9172545671463013,\n",
       "  0.9198181629180908],\n",
       " 'loss': [0.7119119167327881,\n",
       "  0.4875727891921997,\n",
       "  0.44249773025512695,\n",
       "  0.41551336646080017,\n",
       "  0.39575299620628357,\n",
       "  0.38030678033828735,\n",
       "  0.36696574091911316,\n",
       "  0.35561221837997437,\n",
       "  0.3444352149963379,\n",
       "  0.33469104766845703,\n",
       "  0.3263772130012512,\n",
       "  0.3179376721382141,\n",
       "  0.31094011664390564,\n",
       "  0.30383068323135376,\n",
       "  0.297182559967041,\n",
       "  0.29036945104599,\n",
       "  0.28519442677497864,\n",
       "  0.27979904413223267,\n",
       "  0.27479425072669983,\n",
       "  0.26872360706329346,\n",
       "  0.2636767327785492,\n",
       "  0.2599717080593109,\n",
       "  0.25454455614089966,\n",
       "  0.2502825856208801,\n",
       "  0.24530643224716187,\n",
       "  0.24228975176811218,\n",
       "  0.2372620552778244,\n",
       "  0.23396605253219604,\n",
       "  0.23047193884849548,\n",
       "  0.22660742700099945],\n",
       " 'val_accuracy': [0.8027999997138977,\n",
       "  0.8363999724388123,\n",
       "  0.8429999947547913,\n",
       "  0.8496000170707703,\n",
       "  0.8611999750137329,\n",
       "  0.8593999743461609,\n",
       "  0.868399977684021,\n",
       "  0.8700000047683716,\n",
       "  0.8651999831199646,\n",
       "  0.8668000102043152,\n",
       "  0.8733999729156494,\n",
       "  0.876800000667572,\n",
       "  0.8751999735832214,\n",
       "  0.8808000087738037,\n",
       "  0.8808000087738037,\n",
       "  0.881600022315979,\n",
       "  0.8754000067710876,\n",
       "  0.871399998664856,\n",
       "  0.8822000026702881,\n",
       "  0.8849999904632568,\n",
       "  0.8844000101089478,\n",
       "  0.8741999864578247,\n",
       "  0.871399998664856,\n",
       "  0.8862000107765198,\n",
       "  0.885200023651123,\n",
       "  0.8863999843597412,\n",
       "  0.8831999897956848,\n",
       "  0.8867999911308289,\n",
       "  0.8831999897956848,\n",
       "  0.8889999985694885],\n",
       " 'val_loss': [0.5432128310203552,\n",
       "  0.4531679153442383,\n",
       "  0.42584824562072754,\n",
       "  0.41531747579574585,\n",
       "  0.3991813361644745,\n",
       "  0.3752366602420807,\n",
       "  0.3646477162837982,\n",
       "  0.37066057324409485,\n",
       "  0.3725631833076477,\n",
       "  0.36814451217651367,\n",
       "  0.35133975744247437,\n",
       "  0.34644201397895813,\n",
       "  0.3434447646141052,\n",
       "  0.32736995816230774,\n",
       "  0.33026883006095886,\n",
       "  0.3255998492240906,\n",
       "  0.34056907892227173,\n",
       "  0.34908902645111084,\n",
       "  0.32654890418052673,\n",
       "  0.3151470720767975,\n",
       "  0.319645494222641,\n",
       "  0.3345545530319214,\n",
       "  0.34226545691490173,\n",
       "  0.3128051459789276,\n",
       "  0.32149115204811096,\n",
       "  0.31178170442581177,\n",
       "  0.32780829071998596,\n",
       "  0.32210174202919006,\n",
       "  0.3217475712299347,\n",
       "  0.3085600733757019]}"
      ]
     },
     "execution_count": 29,
     "metadata": {},
     "output_type": "execute_result"
    }
   ],
   "source": [
    "history.history"
   ]
  },
  {
   "cell_type": "code",
   "execution_count": 30,
   "id": "e32fce5a-19e0-4f86-83fa-d44e8811bcc1",
   "metadata": {},
   "outputs": [
    {
     "data": {
      "text/plain": [
       "[0,\n",
       " 1,\n",
       " 2,\n",
       " 3,\n",
       " 4,\n",
       " 5,\n",
       " 6,\n",
       " 7,\n",
       " 8,\n",
       " 9,\n",
       " 10,\n",
       " 11,\n",
       " 12,\n",
       " 13,\n",
       " 14,\n",
       " 15,\n",
       " 16,\n",
       " 17,\n",
       " 18,\n",
       " 19,\n",
       " 20,\n",
       " 21,\n",
       " 22,\n",
       " 23,\n",
       " 24,\n",
       " 25,\n",
       " 26,\n",
       " 27,\n",
       " 28,\n",
       " 29]"
      ]
     },
     "execution_count": 30,
     "metadata": {},
     "output_type": "execute_result"
    }
   ],
   "source": [
    "history.epoch"
   ]
  },
  {
   "cell_type": "code",
   "execution_count": 31,
   "id": "420d0aff-0fe8-4802-bcc5-7014ca082006",
   "metadata": {},
   "outputs": [],
   "source": [
    "import matplotlib.pyplot as plt\n",
    "import pandas as pd"
   ]
  },
  {
   "cell_type": "code",
   "execution_count": 32,
   "id": "904b832b-4b27-4687-abc9-ce43b50f5bca",
   "metadata": {},
   "outputs": [
    {
     "data": {
      "image/png": "[encoded data removed]",
      "text/plain": [
       "<Figure size 800x500 with 1 Axes>"
      ]
     },
     "metadata": {},
     "output_type": "display_data"
    }
   ],
   "source": [
    "pd.DataFrame(history.history).plot(figsize=(8,5),xlim=[0,29],ylim=[0,1],grid=True,xlabel=\"Epoch\",style=[\"r--\",\"r--.\",\"b-\",\"b-*\"])\n",
    "plt.show()"
   ]
  },
  {
   "cell_type": "code",
   "execution_count": 33,
   "id": "a79f5e1f-cb69-4eea-9b9f-9ee4eeeb5e0a",
   "metadata": {},
   "outputs": [
    {
     "name": "stdout",
     "output_type": "stream",
     "text": [
      "\u001b[1m313/313\u001b[0m \u001b[32m━━━━━━━━━━━━━━━━━━━━\u001b[0m\u001b[37m\u001b[0m \u001b[1m1s\u001b[0m 2ms/step - accuracy: 0.8816 - loss: 0.3329\n"
     ]
    },
    {
     "data": {
      "text/plain": [
       "[0.3339683413505554, 0.8828999996185303]"
      ]
     },
     "execution_count": 33,
     "metadata": {},
     "output_type": "execute_result"
    }
   ],
   "source": [
    "model.evaluate(X_test,y_test)"
   ]
  },
  {
   "cell_type": "markdown",
   "id": "876a034f-d444-4d1a-97e1-32f1d254167e",
   "metadata": {},
   "source": [
    "#### Using the model to make predictions"
   ]
  },
  {
   "cell_type": "code",
   "execution_count": 34,
   "id": "911b4634-3afa-4583-aaa5-bf0f50cdddf0",
   "metadata": {},
   "outputs": [
    {
     "name": "stdout",
     "output_type": "stream",
     "text": [
      "\u001b[1m1/1\u001b[0m \u001b[32m━━━━━━━━━━━━━━━━━━━━\u001b[0m\u001b[37m\u001b[0m \u001b[1m0s\u001b[0m 64ms/step\n"
     ]
    },
    {
     "data": {
      "text/plain": [
       "array([[0.  , 0.  , 0.  , 0.  , 0.  , 0.01, 0.  , 0.01, 0.  , 0.98],\n",
       "       [0.  , 0.  , 1.  , 0.  , 0.  , 0.  , 0.  , 0.  , 0.  , 0.  ],\n",
       "       [0.  , 1.  , 0.  , 0.  , 0.  , 0.  , 0.  , 0.  , 0.  , 0.  ]],\n",
       "      dtype=float32)"
      ]
     },
     "execution_count": 34,
     "metadata": {},
     "output_type": "execute_result"
    }
   ],
   "source": [
    "X_new = X_test[:3]\n",
    "y_proba = model.predict(X_new)\n",
    "y_proba.round(2)"
   ]
  },
  {
   "cell_type": "code",
   "execution_count": 35,
   "id": "56a216f1-5e73-4306-9c15-6f94bc7bac8d",
   "metadata": {},
   "outputs": [
    {
     "data": {
      "text/plain": [
       "array([9, 2, 1], dtype=int64)"
      ]
     },
     "execution_count": 35,
     "metadata": {},
     "output_type": "execute_result"
    }
   ],
   "source": [
    "import numpy as np\n",
    "y_pred = y_proba.argmax(axis=1)\n",
    "y_pred"
   ]
  },
  {
   "cell_type": "code",
   "execution_count": 36,
   "id": "7fa377ae-c300-419a-80df-a4d3d128f3ba",
   "metadata": {},
   "outputs": [
    {
     "data": {
      "text/plain": [
       "array(['Ankle boot', 'Pullover', 'Trouser'], dtype='<U11')"
      ]
     },
     "execution_count": 36,
     "metadata": {},
     "output_type": "execute_result"
    }
   ],
   "source": [
    "np.array(class_names)[y_pred]"
   ]
  },
  {
   "cell_type": "code",
   "execution_count": 37,
   "id": "83e7b780-eb7e-4eee-904f-1c0782d56ce4",
   "metadata": {},
   "outputs": [
    {
     "data": {
      "text/plain": [
       "array([9, 2, 1], dtype=uint8)"
      ]
     },
     "execution_count": 37,
     "metadata": {},
     "output_type": "execute_result"
    }
   ],
   "source": [
    "y_new = y_test[:3]\n",
    "y_new"
   ]
  },
  {
   "cell_type": "code",
   "execution_count": 38,
   "id": "1708ccb2-849a-4b6e-a1be-3ddb550c718c",
   "metadata": {},
   "outputs": [
    {
     "data": {
      "image/png": "[encoded data removed]",
      "text/plain": [
       "<Figure size 720x240 with 3 Axes>"
      ]
     },
     "metadata": {},
     "output_type": "display_data"
    }
   ],
   "source": [
    "# extra code – this cell generates and saves Figure 10–12\n",
    "plt.figure(figsize=(7.2, 2.4))\n",
    "for index, image in enumerate(X_new):\n",
    "    plt.subplot(1, 3, index + 1)\n",
    "    plt.imshow(image, cmap=\"binary\", interpolation=\"nearest\")\n",
    "    plt.axis('off')\n",
    "    plt.title(class_names[y_test[index]])\n",
    "plt.subplots_adjust(wspace=0.2, hspace=0.5)\n",
    "\n",
    "plt.show()"
   ]
  },
  {
   "cell_type": "markdown",
   "id": "b9f47042-c49c-4c15-9cc2-9f3c8406b657",
   "metadata": {},
   "source": [
    "#### Building sequential MLP using the sequential API"
   ]
  },
  {
   "cell_type": "markdown",
   "id": "c064e102-2eb2-4629-ba71-75f917504835",
   "metadata": {},
   "source": [
    "Using the california housing problem. Since we are only want one single value and it uses no activation function the loss function is mean squared error, the metric is the RMSE and using adam optimizer like scikitlearn MLPRegressor. Instead of faltten layer using Normalization as first layer."
   ]
  },
  {
   "cell_type": "code",
   "execution_count": 39,
   "id": "ab293814-ff70-456a-85d0-e3998e06d4ce",
   "metadata": {},
   "outputs": [],
   "source": [
    "from sklearn.datasets import fetch_california_housing\n",
    "housing = fetch_california_housing()\n",
    "X_train_full, X_test, y_train_full, y_test = train_test_split(\n",
    "    housing.data, housing.target, random_state=42)\n",
    "X_train, X_valid, y_train, y_valid = train_test_split(\n",
    "    X_train_full, y_train_full, random_state=42)"
   ]
  },
  {
   "cell_type": "code",
   "execution_count": 40,
   "id": "95c3e36b-dcb0-45bb-8309-0274fed0923a",
   "metadata": {},
   "outputs": [
    {
     "name": "stdout",
     "output_type": "stream",
     "text": [
      "Epoch 1/20\n"
     ]
    },
    {
     "name": "stderr",
     "output_type": "stream",
     "text": [
      "C:\\Users\\acer\\ML_PATH\\my_env\\lib\\site-packages\\keras\\src\\layers\\preprocessing\\tf_data_layer.py:19: UserWarning: Do not pass an `input_shape`/`input_dim` argument to a layer. When using Sequential models, prefer using an `Input(shape)` object as the first layer in the model instead.\n",
      "  super().__init__(**kwargs)\n"
     ]
    },
    {
     "name": "stdout",
     "output_type": "stream",
     "text": [
      "\u001b[1m363/363\u001b[0m \u001b[32m━━━━━━━━━━━━━━━━━━━━\u001b[0m\u001b[37m\u001b[0m \u001b[1m2s\u001b[0m 2ms/step - RootMeanSquaredError: 1.2214 - loss: 1.5966 - val_RootMeanSquaredError: 0.6266 - val_loss: 0.3926\n",
      "Epoch 2/20\n",
      "\u001b[1m363/363\u001b[0m \u001b[32m━━━━━━━━━━━━━━━━━━━━\u001b[0m\u001b[37m\u001b[0m \u001b[1m1s\u001b[0m 2ms/step - RootMeanSquaredError: 0.6335 - loss: 0.4018 - val_RootMeanSquaredError: 0.6156 - val_loss: 0.3789\n",
      "Epoch 3/20\n",
      "\u001b[1m363/363\u001b[0m \u001b[32m━━━━━━━━━━━━━━━━━━━━\u001b[0m\u001b[37m\u001b[0m \u001b[1m1s\u001b[0m 2ms/step - RootMeanSquaredError: 0.6094 - loss: 0.3716 - val_RootMeanSquaredError: 0.6112 - val_loss: 0.3736\n",
      "Epoch 4/20\n",
      "\u001b[1m363/363\u001b[0m \u001b[32m━━━━━━━━━━━━━━━━━━━━\u001b[0m\u001b[37m\u001b[0m \u001b[1m1s\u001b[0m 2ms/step - RootMeanSquaredError: 0.5968 - loss: 0.3563 - val_RootMeanSquaredError: 0.5980 - val_loss: 0.3576\n",
      "Epoch 5/20\n",
      "\u001b[1m363/363\u001b[0m \u001b[32m━━━━━━━━━━━━━━━━━━━━\u001b[0m\u001b[37m\u001b[0m \u001b[1m1s\u001b[0m 2ms/step - RootMeanSquaredError: 0.5880 - loss: 0.3459 - val_RootMeanSquaredError: 0.5904 - val_loss: 0.3485\n",
      "Epoch 6/20\n",
      "\u001b[1m363/363\u001b[0m \u001b[32m━━━━━━━━━━━━━━━━━━━━\u001b[0m\u001b[37m\u001b[0m \u001b[1m1s\u001b[0m 2ms/step - RootMeanSquaredError: 0.5802 - loss: 0.3368 - val_RootMeanSquaredError: 0.6746 - val_loss: 0.4551\n",
      "Epoch 7/20\n",
      "\u001b[1m363/363\u001b[0m \u001b[32m━━━━━━━━━━━━━━━━━━━━\u001b[0m\u001b[37m\u001b[0m \u001b[1m1s\u001b[0m 2ms/step - RootMeanSquaredError: 0.5729 - loss: 0.3283 - val_RootMeanSquaredError: 0.8383 - val_loss: 0.7027\n",
      "Epoch 8/20\n",
      "\u001b[1m363/363\u001b[0m \u001b[32m━━━━━━━━━━━━━━━━━━━━\u001b[0m\u001b[37m\u001b[0m \u001b[1m1s\u001b[0m 2ms/step - RootMeanSquaredError: 0.5660 - loss: 0.3205 - val_RootMeanSquaredError: 0.7758 - val_loss: 0.6018\n",
      "Epoch 9/20\n",
      "\u001b[1m363/363\u001b[0m \u001b[32m━━━━━━━━━━━━━━━━━━━━\u001b[0m\u001b[37m\u001b[0m \u001b[1m1s\u001b[0m 2ms/step - RootMeanSquaredError: 0.5588 - loss: 0.3123 - val_RootMeanSquaredError: 0.9918 - val_loss: 0.9836\n",
      "Epoch 10/20\n",
      "\u001b[1m363/363\u001b[0m \u001b[32m━━━━━━━━━━━━━━━━━━━━\u001b[0m\u001b[37m\u001b[0m \u001b[1m1s\u001b[0m 2ms/step - RootMeanSquaredError: 0.5535 - loss: 0.3064 - val_RootMeanSquaredError: 1.4621 - val_loss: 2.1377\n",
      "Epoch 11/20\n",
      "\u001b[1m363/363\u001b[0m \u001b[32m━━━━━━━━━━━━━━━━━━━━\u001b[0m\u001b[37m\u001b[0m \u001b[1m1s\u001b[0m 2ms/step - RootMeanSquaredError: 0.5520 - loss: 0.3048 - val_RootMeanSquaredError: 0.9376 - val_loss: 0.8790\n",
      "Epoch 12/20\n",
      "\u001b[1m363/363\u001b[0m \u001b[32m━━━━━━━━━━━━━━━━━━━━\u001b[0m\u001b[37m\u001b[0m \u001b[1m1s\u001b[0m 2ms/step - RootMeanSquaredError: 0.5454 - loss: 0.2975 - val_RootMeanSquaredError: 1.0314 - val_loss: 1.0637\n",
      "Epoch 13/20\n",
      "\u001b[1m363/363\u001b[0m \u001b[32m━━━━━━━━━━━━━━━━━━━━\u001b[0m\u001b[37m\u001b[0m \u001b[1m1s\u001b[0m 2ms/step - RootMeanSquaredError: 0.5398 - loss: 0.2914 - val_RootMeanSquaredError: 0.6019 - val_loss: 0.3623\n",
      "Epoch 14/20\n",
      "\u001b[1m363/363\u001b[0m \u001b[32m━━━━━━━━━━━━━━━━━━━━\u001b[0m\u001b[37m\u001b[0m \u001b[1m1s\u001b[0m 2ms/step - RootMeanSquaredError: 0.5341 - loss: 0.2853 - val_RootMeanSquaredError: 0.6074 - val_loss: 0.3689\n",
      "Epoch 15/20\n",
      "\u001b[1m363/363\u001b[0m \u001b[32m━━━━━━━━━━━━━━━━━━━━\u001b[0m\u001b[37m\u001b[0m \u001b[1m1s\u001b[0m 2ms/step - RootMeanSquaredError: 0.5309 - loss: 0.2819 - val_RootMeanSquaredError: 0.6298 - val_loss: 0.3966\n",
      "Epoch 16/20\n",
      "\u001b[1m363/363\u001b[0m \u001b[32m━━━━━━━━━━━━━━━━━━━━\u001b[0m\u001b[37m\u001b[0m \u001b[1m1s\u001b[0m 2ms/step - RootMeanSquaredError: 0.5298 - loss: 0.2808 - val_RootMeanSquaredError: 0.5752 - val_loss: 0.3309\n",
      "Epoch 17/20\n",
      "\u001b[1m363/363\u001b[0m \u001b[32m━━━━━━━━━━━━━━━━━━━━\u001b[0m\u001b[37m\u001b[0m \u001b[1m1s\u001b[0m 2ms/step - RootMeanSquaredError: 0.5277 - loss: 0.2785 - val_RootMeanSquaredError: 0.5419 - val_loss: 0.2937\n",
      "Epoch 18/20\n",
      "\u001b[1m363/363\u001b[0m \u001b[32m━━━━━━━━━━━━━━━━━━━━\u001b[0m\u001b[37m\u001b[0m \u001b[1m1s\u001b[0m 2ms/step - RootMeanSquaredError: 0.5241 - loss: 0.2747 - val_RootMeanSquaredError: 0.6322 - val_loss: 0.3997\n",
      "Epoch 19/20\n",
      "\u001b[1m363/363\u001b[0m \u001b[32m━━━━━━━━━━━━━━━━━━━━\u001b[0m\u001b[37m\u001b[0m \u001b[1m1s\u001b[0m 2ms/step - RootMeanSquaredError: 0.5215 - loss: 0.2720 - val_RootMeanSquaredError: 0.5493 - val_loss: 0.3018\n",
      "Epoch 20/20\n",
      "\u001b[1m363/363\u001b[0m \u001b[32m━━━━━━━━━━━━━━━━━━━━\u001b[0m\u001b[37m\u001b[0m \u001b[1m1s\u001b[0m 2ms/step - RootMeanSquaredError: 0.5179 - loss: 0.2683 - val_RootMeanSquaredError: 0.5310 - val_loss: 0.2819\n",
      "\u001b[1m162/162\u001b[0m \u001b[32m━━━━━━━━━━━━━━━━━━━━\u001b[0m\u001b[37m\u001b[0m \u001b[1m0s\u001b[0m 1ms/step - RootMeanSquaredError: 0.5358 - loss: 0.2873\n",
      "\u001b[1m1/1\u001b[0m \u001b[32m━━━━━━━━━━━━━━━━━━━━\u001b[0m\u001b[37m\u001b[0m \u001b[1m0s\u001b[0m 85ms/step\n"
     ]
    }
   ],
   "source": [
    "tf.random.set_seed(42)\n",
    "norm_layer = tf.keras.layers.Normalization(input_shape=X_train.shape[1:])\n",
    "model = tf.keras.Sequential([\n",
    "    norm_layer,\n",
    "    tf.keras.layers.Dense(50,activation=\"relu\"),\n",
    "    tf.keras.layers.Dense(50,activation=\"relu\"),\n",
    "    tf.keras.layers.Dense(50,activation=\"relu\"),\n",
    "    tf.keras.layers.Dense(1)\n",
    "])\n",
    "\n",
    "optimizer = tf.keras.optimizers.Adam(learning_rate=1e-3)\n",
    "model.compile(loss=\"mse\",optimizer=optimizer,metrics=[\"RootMeanSquaredError\"])\n",
    "norm_layer.adapt(X_train)\n",
    "history = model.fit(X_train,y_train,epochs=20,\n",
    "                   validation_data=(X_valid,y_valid))\n",
    "mse_test,rmse_test = model.evaluate(X_test,y_test)\n",
    "X_new = X_test[:3]\n",
    "y_pred = model.predict(X_new)"
   ]
  },
  {
   "cell_type": "code",
   "execution_count": 41,
   "id": "c199210b-319d-41c0-b07a-3798d0c683ae",
   "metadata": {},
   "outputs": [
    {
     "data": {
      "text/html": [
       "<pre style=\"white-space:pre;overflow-x:auto;line-height:normal;font-family:Menlo,'DejaVu Sans Mono',consolas,'Courier New',monospace\"><span style=\"font-weight: bold\">Model: \"sequential_1\"</span>\n",
       "</pre>\n"
      ],
      "text/plain": [
       "\u001b[1mModel: \"sequential_1\"\u001b[0m\n"
      ]
     },
     "metadata": {},
     "output_type": "display_data"
    },
    {
     "data": {
      "text/html": [
       "<pre style=\"white-space:pre;overflow-x:auto;line-height:normal;font-family:Menlo,'DejaVu Sans Mono',consolas,'Courier New',monospace\">┏━━━━━━━━━━━━━━━━━━━━━━━━━━━━━━━━━━━━━━┳━━━━━━━━━━━━━━━━━━━━━━━━━━━━━┳━━━━━━━━━━━━━━━━━┓\n",
       "┃<span style=\"font-weight: bold\"> Layer (type)                         </span>┃<span style=\"font-weight: bold\"> Output Shape                </span>┃<span style=\"font-weight: bold\">         Param # </span>┃\n",
       "┡━━━━━━━━━━━━━━━━━━━━━━━━━━━━━━━━━━━━━━╇━━━━━━━━━━━━━━━━━━━━━━━━━━━━━╇━━━━━━━━━━━━━━━━━┩\n",
       "│ normalization (<span style=\"color: #0087ff; text-decoration-color: #0087ff\">Normalization</span>)        │ (<span style=\"color: #00d7ff; text-decoration-color: #00d7ff\">None</span>, <span style=\"color: #00af00; text-decoration-color: #00af00\">8</span>)                   │              <span style=\"color: #00af00; text-decoration-color: #00af00\">17</span> │\n",
       "├──────────────────────────────────────┼─────────────────────────────┼─────────────────┤\n",
       "│ dense_3 (<span style=\"color: #0087ff; text-decoration-color: #0087ff\">Dense</span>)                      │ (<span style=\"color: #00d7ff; text-decoration-color: #00d7ff\">None</span>, <span style=\"color: #00af00; text-decoration-color: #00af00\">50</span>)                  │             <span style=\"color: #00af00; text-decoration-color: #00af00\">450</span> │\n",
       "├──────────────────────────────────────┼─────────────────────────────┼─────────────────┤\n",
       "│ dense_4 (<span style=\"color: #0087ff; text-decoration-color: #0087ff\">Dense</span>)                      │ (<span style=\"color: #00d7ff; text-decoration-color: #00d7ff\">None</span>, <span style=\"color: #00af00; text-decoration-color: #00af00\">50</span>)                  │           <span style=\"color: #00af00; text-decoration-color: #00af00\">2,550</span> │\n",
       "├──────────────────────────────────────┼─────────────────────────────┼─────────────────┤\n",
       "│ dense_5 (<span style=\"color: #0087ff; text-decoration-color: #0087ff\">Dense</span>)                      │ (<span style=\"color: #00d7ff; text-decoration-color: #00d7ff\">None</span>, <span style=\"color: #00af00; text-decoration-color: #00af00\">50</span>)                  │           <span style=\"color: #00af00; text-decoration-color: #00af00\">2,550</span> │\n",
       "├──────────────────────────────────────┼─────────────────────────────┼─────────────────┤\n",
       "│ dense_6 (<span style=\"color: #0087ff; text-decoration-color: #0087ff\">Dense</span>)                      │ (<span style=\"color: #00d7ff; text-decoration-color: #00d7ff\">None</span>, <span style=\"color: #00af00; text-decoration-color: #00af00\">1</span>)                   │              <span style=\"color: #00af00; text-decoration-color: #00af00\">51</span> │\n",
       "└──────────────────────────────────────┴─────────────────────────────┴─────────────────┘\n",
       "</pre>\n"
      ],
      "text/plain": [
       "┏━━━━━━━━━━━━━━━━━━━━━━━━━━━━━━━━━━━━━━┳━━━━━━━━━━━━━━━━━━━━━━━━━━━━━┳━━━━━━━━━━━━━━━━━┓\n",
       "┃\u001b[1m \u001b[0m\u001b[1mLayer (type)                        \u001b[0m\u001b[1m \u001b[0m┃\u001b[1m \u001b[0m\u001b[1mOutput Shape               \u001b[0m\u001b[1m \u001b[0m┃\u001b[1m \u001b[0m\u001b[1m        Param #\u001b[0m\u001b[1m \u001b[0m┃\n",
       "┡━━━━━━━━━━━━━━━━━━━━━━━━━━━━━━━━━━━━━━╇━━━━━━━━━━━━━━━━━━━━━━━━━━━━━╇━━━━━━━━━━━━━━━━━┩\n",
       "│ normalization (\u001b[38;5;33mNormalization\u001b[0m)        │ (\u001b[38;5;45mNone\u001b[0m, \u001b[38;5;34m8\u001b[0m)                   │              \u001b[38;5;34m17\u001b[0m │\n",
       "├──────────────────────────────────────┼─────────────────────────────┼─────────────────┤\n",
       "│ dense_3 (\u001b[38;5;33mDense\u001b[0m)                      │ (\u001b[38;5;45mNone\u001b[0m, \u001b[38;5;34m50\u001b[0m)                  │             \u001b[38;5;34m450\u001b[0m │\n",
       "├──────────────────────────────────────┼─────────────────────────────┼─────────────────┤\n",
       "│ dense_4 (\u001b[38;5;33mDense\u001b[0m)                      │ (\u001b[38;5;45mNone\u001b[0m, \u001b[38;5;34m50\u001b[0m)                  │           \u001b[38;5;34m2,550\u001b[0m │\n",
       "├──────────────────────────────────────┼─────────────────────────────┼─────────────────┤\n",
       "│ dense_5 (\u001b[38;5;33mDense\u001b[0m)                      │ (\u001b[38;5;45mNone\u001b[0m, \u001b[38;5;34m50\u001b[0m)                  │           \u001b[38;5;34m2,550\u001b[0m │\n",
       "├──────────────────────────────────────┼─────────────────────────────┼─────────────────┤\n",
       "│ dense_6 (\u001b[38;5;33mDense\u001b[0m)                      │ (\u001b[38;5;45mNone\u001b[0m, \u001b[38;5;34m1\u001b[0m)                   │              \u001b[38;5;34m51\u001b[0m │\n",
       "└──────────────────────────────────────┴─────────────────────────────┴─────────────────┘\n"
      ]
     },
     "metadata": {},
     "output_type": "display_data"
    },
    {
     "data": {
      "text/html": [
       "<pre style=\"white-space:pre;overflow-x:auto;line-height:normal;font-family:Menlo,'DejaVu Sans Mono',consolas,'Courier New',monospace\"><span style=\"font-weight: bold\"> Total params: </span><span style=\"color: #00af00; text-decoration-color: #00af00\">16,822</span> (65.72 KB)\n",
       "</pre>\n"
      ],
      "text/plain": [
       "\u001b[1m Total params: \u001b[0m\u001b[38;5;34m16,822\u001b[0m (65.72 KB)\n"
      ]
     },
     "metadata": {},
     "output_type": "display_data"
    },
    {
     "data": {
      "text/html": [
       "<pre style=\"white-space:pre;overflow-x:auto;line-height:normal;font-family:Menlo,'DejaVu Sans Mono',consolas,'Courier New',monospace\"><span style=\"font-weight: bold\"> Trainable params: </span><span style=\"color: #00af00; text-decoration-color: #00af00\">5,601</span> (21.88 KB)\n",
       "</pre>\n"
      ],
      "text/plain": [
       "\u001b[1m Trainable params: \u001b[0m\u001b[38;5;34m5,601\u001b[0m (21.88 KB)\n"
      ]
     },
     "metadata": {},
     "output_type": "display_data"
    },
    {
     "data": {
      "text/html": [
       "<pre style=\"white-space:pre;overflow-x:auto;line-height:normal;font-family:Menlo,'DejaVu Sans Mono',consolas,'Courier New',monospace\"><span style=\"font-weight: bold\"> Non-trainable params: </span><span style=\"color: #00af00; text-decoration-color: #00af00\">17</span> (72.00 B)\n",
       "</pre>\n"
      ],
      "text/plain": [
       "\u001b[1m Non-trainable params: \u001b[0m\u001b[38;5;34m17\u001b[0m (72.00 B)\n"
      ]
     },
     "metadata": {},
     "output_type": "display_data"
    },
    {
     "data": {
      "text/html": [
       "<pre style=\"white-space:pre;overflow-x:auto;line-height:normal;font-family:Menlo,'DejaVu Sans Mono',consolas,'Courier New',monospace\"><span style=\"font-weight: bold\"> Optimizer params: </span><span style=\"color: #00af00; text-decoration-color: #00af00\">11,204</span> (43.77 KB)\n",
       "</pre>\n"
      ],
      "text/plain": [
       "\u001b[1m Optimizer params: \u001b[0m\u001b[38;5;34m11,204\u001b[0m (43.77 KB)\n"
      ]
     },
     "metadata": {},
     "output_type": "display_data"
    }
   ],
   "source": [
    "model.summary()"
   ]
  },
  {
   "cell_type": "code",
   "execution_count": 42,
   "id": "5e21e1ff-6546-41ba-ad51-c4777b4d5005",
   "metadata": {},
   "outputs": [
    {
     "data": {
      "image/png": "[encoded data removed]",
      "text/plain": [
       "<Figure size 800x500 with 1 Axes>"
      ]
     },
     "metadata": {},
     "output_type": "display_data"
    }
   ],
   "source": [
    "pd.DataFrame(history.history).plot(figsize=(8,5),xlim=[0,29],ylim=[0,1],grid=True,xlabel=\"Epoch\",style=[\"r--\",\"r--.\",\"b-\",\"b-*\"])\n",
    "plt.show()"
   ]
  },
  {
   "cell_type": "markdown",
   "id": "9e44db8e-e89f-46c7-8817-972f6eb6f08b",
   "metadata": {},
   "source": [
    "### Building complex models using fuctional API "
   ]
  },
  {
   "cell_type": "code",
   "execution_count": 43,
   "id": "6e183f5b-25f6-415b-a066-c47ab3031f04",
   "metadata": {},
   "outputs": [],
   "source": [
    "normalization_layer = tf.keras.layers.Normalization()\n",
    "hidden_layer1 = tf.keras.layers.Dense(30,activation=\"relu\")\n",
    "hidden_layer2 = tf.keras.layers.Dense(30,activation=\"relu\")\n",
    "concat_layer = tf.keras.layers.Concatenate()\n",
    "output_layer = tf.keras.layers.Dense(1)\n",
    "\n",
    "input_ = tf.keras.layers.Input(shape=X_train.shape[1:])\n",
    "normalized = normalization_layer(input_)\n",
    "hidden1 = hidden_layer1(normalized)\n",
    "hidden2 = hidden_layer2(hidden1)\n",
    "concat = concat_layer([normalized,hidden2])\n",
    "output = output_layer(concat)\n",
    "\n",
    "model = tf.keras.Model(inputs=[input_],outputs=[output])"
   ]
  },
  {
   "cell_type": "markdown",
   "id": "20aa172b-1048-47ff-9e9c-bbfd8a9f6a17",
   "metadata": {},
   "source": [
    "Handling multiple inputs. How to send multiple inputs through wide and deep path"
   ]
  },
  {
   "cell_type": "code",
   "execution_count": 44,
   "id": "b9efe88e-03a3-4185-9a1a-5372a40f8cb8",
   "metadata": {},
   "outputs": [],
   "source": [
    "input_wide = tf.keras.layers.Input(shape=[5]) # Feature 0 to 4\n",
    "input_deep = tf.keras.layers.Input(shape=[6]) # Feature 2 to 7\n",
    "norm_layer_wide = tf.keras.layers.Normalization()\n",
    "norm_layer_deep = tf.keras.layers.Normalization()\n",
    "norm_wide = norm_layer_wide(input_wide)\n",
    "norm_deep = norm_layer_deep(input_deep)\n",
    "hidden1 = tf.keras.layers.Dense(30,activation=\"relu\")(norm_deep)\n",
    "hidden2 = tf.keras.layers.Dense(30,activation=\"relu\")(hidden1)\n",
    "concat = tf.keras.layers.concatenate([norm_wide,hidden2])\n",
    "output = tf.keras.layers.Dense(1)(concat)\n",
    "model = tf.keras.Model(inputs=[input_wide,input_deep],outputs=[output])"
   ]
  },
  {
   "cell_type": "markdown",
   "id": "ac8e19b5-9de9-48fb-8a18-36d13de19656",
   "metadata": {},
   "source": [
    "instead of passing a single input matrix X_train, we must pass a pair of matrices (X_train_wide,X_train_deep), one per input."
   ]
  },
  {
   "cell_type": "code",
   "execution_count": 45,
   "id": "248b1f25-4e48-4997-bae3-f80faa21d74c",
   "metadata": {},
   "outputs": [
    {
     "name": "stdout",
     "output_type": "stream",
     "text": [
      "Epoch 1/20\n",
      "\u001b[1m363/363\u001b[0m \u001b[32m━━━━━━━━━━━━━━━━━━━━\u001b[0m\u001b[37m\u001b[0m \u001b[1m2s\u001b[0m 2ms/step - RootMeanSquaredError: 1.4433 - loss: 2.1704 - val_RootMeanSquaredError: 1.0193 - val_loss: 1.0391\n",
      "Epoch 2/20\n",
      "\u001b[1m363/363\u001b[0m \u001b[32m━━━━━━━━━━━━━━━━━━━━\u001b[0m\u001b[37m\u001b[0m \u001b[1m1s\u001b[0m 2ms/step - RootMeanSquaredError: 0.7495 - loss: 0.5624 - val_RootMeanSquaredError: 1.3008 - val_loss: 1.6921\n",
      "Epoch 3/20\n",
      "\u001b[1m363/363\u001b[0m \u001b[32m━━━━━━━━━━━━━━━━━━━━\u001b[0m\u001b[37m\u001b[0m \u001b[1m1s\u001b[0m 2ms/step - RootMeanSquaredError: 0.6865 - loss: 0.4716 - val_RootMeanSquaredError: 0.6298 - val_loss: 0.3967\n",
      "Epoch 4/20\n",
      "\u001b[1m363/363\u001b[0m \u001b[32m━━━━━━━━━━━━━━━━━━━━\u001b[0m\u001b[37m\u001b[0m \u001b[1m1s\u001b[0m 2ms/step - RootMeanSquaredError: 0.6592 - loss: 0.4348 - val_RootMeanSquaredError: 1.4455 - val_loss: 2.0894\n",
      "Epoch 5/20\n",
      "\u001b[1m363/363\u001b[0m \u001b[32m━━━━━━━━━━━━━━━━━━━━\u001b[0m\u001b[37m\u001b[0m \u001b[1m1s\u001b[0m 2ms/step - RootMeanSquaredError: 0.6472 - loss: 0.4192 - val_RootMeanSquaredError: 1.6235 - val_loss: 2.6357\n",
      "Epoch 6/20\n",
      "\u001b[1m363/363\u001b[0m \u001b[32m━━━━━━━━━━━━━━━━━━━━\u001b[0m\u001b[37m\u001b[0m \u001b[1m1s\u001b[0m 2ms/step - RootMeanSquaredError: 0.6380 - loss: 0.4071 - val_RootMeanSquaredError: 2.1735 - val_loss: 4.7241\n",
      "Epoch 7/20\n",
      "\u001b[1m363/363\u001b[0m \u001b[32m━━━━━━━━━━━━━━━━━━━━\u001b[0m\u001b[37m\u001b[0m \u001b[1m1s\u001b[0m 2ms/step - RootMeanSquaredError: 0.6364 - loss: 0.4052 - val_RootMeanSquaredError: 2.2986 - val_loss: 5.2837\n",
      "Epoch 8/20\n",
      "\u001b[1m363/363\u001b[0m \u001b[32m━━━━━━━━━━━━━━━━━━━━\u001b[0m\u001b[37m\u001b[0m \u001b[1m1s\u001b[0m 2ms/step - RootMeanSquaredError: 0.6308 - loss: 0.3981 - val_RootMeanSquaredError: 1.8553 - val_loss: 3.4422\n",
      "Epoch 9/20\n",
      "\u001b[1m363/363\u001b[0m \u001b[32m━━━━━━━━━━━━━━━━━━━━\u001b[0m\u001b[37m\u001b[0m \u001b[1m1s\u001b[0m 2ms/step - RootMeanSquaredError: 0.6237 - loss: 0.3891 - val_RootMeanSquaredError: 1.7540 - val_loss: 3.0766\n",
      "Epoch 10/20\n",
      "\u001b[1m363/363\u001b[0m \u001b[32m━━━━━━━━━━━━━━━━━━━━\u001b[0m\u001b[37m\u001b[0m \u001b[1m1s\u001b[0m 2ms/step - RootMeanSquaredError: 0.6161 - loss: 0.3797 - val_RootMeanSquaredError: 1.4733 - val_loss: 2.1706\n",
      "Epoch 11/20\n",
      "\u001b[1m363/363\u001b[0m \u001b[32m━━━━━━━━━━━━━━━━━━━━\u001b[0m\u001b[37m\u001b[0m \u001b[1m1s\u001b[0m 2ms/step - RootMeanSquaredError: 0.6123 - loss: 0.3751 - val_RootMeanSquaredError: 1.2957 - val_loss: 1.6787\n",
      "Epoch 12/20\n",
      "\u001b[1m363/363\u001b[0m \u001b[32m━━━━━━━━━━━━━━━━━━━━\u001b[0m\u001b[37m\u001b[0m \u001b[1m1s\u001b[0m 2ms/step - RootMeanSquaredError: 0.6049 - loss: 0.3660 - val_RootMeanSquaredError: 1.1178 - val_loss: 1.2495\n",
      "Epoch 13/20\n",
      "\u001b[1m363/363\u001b[0m \u001b[32m━━━━━━━━━━━━━━━━━━━━\u001b[0m\u001b[37m\u001b[0m \u001b[1m1s\u001b[0m 2ms/step - RootMeanSquaredError: 0.6019 - loss: 0.3624 - val_RootMeanSquaredError: 1.1948 - val_loss: 1.4275\n",
      "Epoch 14/20\n",
      "\u001b[1m363/363\u001b[0m \u001b[32m━━━━━━━━━━━━━━━━━━━━\u001b[0m\u001b[37m\u001b[0m \u001b[1m1s\u001b[0m 2ms/step - RootMeanSquaredError: 0.5981 - loss: 0.3578 - val_RootMeanSquaredError: 1.2323 - val_loss: 1.5186\n",
      "Epoch 15/20\n",
      "\u001b[1m363/363\u001b[0m \u001b[32m━━━━━━━━━━━━━━━━━━━━\u001b[0m\u001b[37m\u001b[0m \u001b[1m1s\u001b[0m 2ms/step - RootMeanSquaredError: 0.5965 - loss: 0.3559 - val_RootMeanSquaredError: 1.2510 - val_loss: 1.5651\n",
      "Epoch 16/20\n",
      "\u001b[1m363/363\u001b[0m \u001b[32m━━━━━━━━━━━━━━━━━━━━\u001b[0m\u001b[37m\u001b[0m \u001b[1m1s\u001b[0m 2ms/step - RootMeanSquaredError: 0.5934 - loss: 0.3522 - val_RootMeanSquaredError: 1.1264 - val_loss: 1.2688\n",
      "Epoch 17/20\n",
      "\u001b[1m363/363\u001b[0m \u001b[32m━━━━━━━━━━━━━━━━━━━━\u001b[0m\u001b[37m\u001b[0m \u001b[1m1s\u001b[0m 2ms/step - RootMeanSquaredError: 0.5910 - loss: 0.3494 - val_RootMeanSquaredError: 1.2083 - val_loss: 1.4599\n",
      "Epoch 18/20\n",
      "\u001b[1m363/363\u001b[0m \u001b[32m━━━━━━━━━━━━━━━━━━━━\u001b[0m\u001b[37m\u001b[0m \u001b[1m1s\u001b[0m 2ms/step - RootMeanSquaredError: 0.5894 - loss: 0.3475 - val_RootMeanSquaredError: 1.6438 - val_loss: 2.7019\n",
      "Epoch 19/20\n",
      "\u001b[1m363/363\u001b[0m \u001b[32m━━━━━━━━━━━━━━━━━━━━\u001b[0m\u001b[37m\u001b[0m \u001b[1m1s\u001b[0m 2ms/step - RootMeanSquaredError: 0.5897 - loss: 0.3478 - val_RootMeanSquaredError: 1.5193 - val_loss: 2.3083\n",
      "Epoch 20/20\n",
      "\u001b[1m363/363\u001b[0m \u001b[32m━━━━━━━━━━━━━━━━━━━━\u001b[0m\u001b[37m\u001b[0m \u001b[1m1s\u001b[0m 2ms/step - RootMeanSquaredError: 0.5882 - loss: 0.3461 - val_RootMeanSquaredError: 1.3462 - val_loss: 1.8123\n",
      "\u001b[1m162/162\u001b[0m \u001b[32m━━━━━━━━━━━━━━━━━━━━\u001b[0m\u001b[37m\u001b[0m \u001b[1m0s\u001b[0m 1ms/step - RootMeanSquaredError: 0.5890 - loss: 0.3470\n",
      "\u001b[1m1/1\u001b[0m \u001b[32m━━━━━━━━━━━━━━━━━━━━\u001b[0m\u001b[37m\u001b[0m \u001b[1m0s\u001b[0m 94ms/step\n"
     ]
    }
   ],
   "source": [
    "optimizer = tf.keras.optimizers.Adam(learning_rate=1e-3)\n",
    "model.compile(loss=\"mse\", optimizer=optimizer, metrics=[\"RootMeanSquaredError\"])\n",
    "\n",
    "X_train_wide, X_train_deep = X_train[:, :5], X_train[:, 2:]\n",
    "X_valid_wide, X_valid_deep = X_valid[:, :5], X_valid[:, 2:]\n",
    "X_test_wide, X_test_deep = X_test[:, :5], X_test[:, 2:]\n",
    "X_new_wide, X_new_deep = X_test_wide[:3], X_test_deep[:3]\n",
    "\n",
    "norm_layer_wide.adapt(X_train_wide)\n",
    "norm_layer_deep.adapt(X_train_deep)\n",
    "history = model.fit((X_train_wide, X_train_deep), y_train, epochs=20,\n",
    "                    validation_data=((X_valid_wide, X_valid_deep), y_valid))\n",
    "mse_test = model.evaluate((X_test_wide, X_test_deep), y_test)\n",
    "y_pred = model.predict((X_new_wide, X_new_deep))"
   ]
  },
  {
   "cell_type": "markdown",
   "id": "39c52c64-6d38-4df7-899a-df717457db27",
   "metadata": {},
   "source": [
    "#### For multiple outputs"
   ]
  },
  {
   "cell_type": "code",
   "execution_count": 46,
   "id": "5e9e7932-99db-4464-90ad-21a4abdde57f",
   "metadata": {},
   "outputs": [],
   "source": [
    "input_wide = tf.keras.layers.Input(shape=[5]) # Feature 0 to 4\n",
    "input_deep = tf.keras.layers.Input(shape=[6]) # Feature 2 to 7\n",
    "norm_layer_wide = tf.keras.layers.Normalization()\n",
    "norm_layer_deep = tf.keras.layers.Normalization()\n",
    "norm_wide = norm_layer_wide(input_wide)\n",
    "norm_deep = norm_layer_deep(input_deep)\n",
    "hidden1 = tf.keras.layers.Dense(30,activation=\"relu\")(norm_deep)\n",
    "hidden2 = tf.keras.layers.Dense(30,activation=\"relu\")(hidden1)\n",
    "concat = tf.keras.layers.concatenate([norm_wide,hidden2])\n",
    "output = tf.keras.layers.Dense(1)(concat)\n",
    "aux_output = tf.keras.layers.Dense(1)(hidden2)\n",
    "model = tf.keras.Model(inputs=[input_wide,input_deep],outputs=[output,aux_output])"
   ]
  },
  {
   "cell_type": "code",
   "execution_count": 47,
   "id": "e87f46c8-fd41-4b0a-97ce-1b8fc690faa9",
   "metadata": {},
   "outputs": [],
   "source": [
    "# Each output needs its own loss function.Therefore, when we compile the model, we should pass a list of losses.\n",
    "# If we pass a single loss, keras will assume that the same loss must be used for all outputs.\n",
    "optimizer = tf.keras.optimizers.Adam(learning_rate=1e-3)\n",
    "model.compile(loss=(\"mse\",\"mse\"),loss_weights=(0.9,0.1),optimizer=optimizer,metrics=[\"RootMeanSquaredError\",\"RootMeanSquaredError\"])"
   ]
  },
  {
   "cell_type": "markdown",
   "id": "e5b8415b-9dc0-49d1-929b-2e0efe181904",
   "metadata": {},
   "source": [
    "instead of passing tuple loss=(\"mse\",\"mse\") we can pass dictonary loss={\"output\":\"mse\",\"aux_output\":\"mse\"}"
   ]
  },
  {
   "cell_type": "code",
   "execution_count": 48,
   "id": "cb8b5760-1de2-4b80-93e1-3c722ac1ffe9",
   "metadata": {},
   "outputs": [
    {
     "name": "stdout",
     "output_type": "stream",
     "text": [
      "Epoch 1/20\n",
      "\u001b[1m363/363\u001b[0m \u001b[32m━━━━━━━━━━━━━━━━━━━━\u001b[0m\u001b[37m\u001b[0m \u001b[1m3s\u001b[0m 3ms/step - dense_15_RootMeanSquaredError: 1.5872 - dense_15_loss: 2.3698 - dense_16_RootMeanSquaredError: 1.9165 - dense_16_loss: 0.3758 - loss: 2.7457 - val_dense_15_RootMeanSquaredError: 1.1789 - val_dense_15_loss: 1.2504 - val_dense_16_RootMeanSquaredError: 1.8250 - val_dense_16_loss: 0.3329 - val_loss: 1.5839\n",
      "Epoch 2/20\n",
      "\u001b[1m363/363\u001b[0m \u001b[32m━━━━━━━━━━━━━━━━━━━━\u001b[0m\u001b[37m\u001b[0m \u001b[1m1s\u001b[0m 2ms/step - dense_15_RootMeanSquaredError: 0.7459 - dense_15_loss: 0.5012 - dense_16_RootMeanSquaredError: 0.9402 - dense_16_loss: 0.0886 - loss: 0.5898 - val_dense_15_RootMeanSquaredError: 0.7079 - val_dense_15_loss: 0.4509 - val_dense_16_RootMeanSquaredError: 1.0304 - val_dense_16_loss: 0.1061 - val_loss: 0.5572\n",
      "Epoch 3/20\n",
      "\u001b[1m363/363\u001b[0m \u001b[32m━━━━━━━━━━━━━━━━━━━━\u001b[0m\u001b[37m\u001b[0m \u001b[1m1s\u001b[0m 2ms/step - dense_15_RootMeanSquaredError: 0.6785 - dense_15_loss: 0.4146 - dense_16_RootMeanSquaredError: 0.7711 - dense_16_loss: 0.0595 - loss: 0.4741 - val_dense_15_RootMeanSquaredError: 0.6180 - val_dense_15_loss: 0.3436 - val_dense_16_RootMeanSquaredError: 0.7974 - val_dense_16_loss: 0.0636 - val_loss: 0.4073\n",
      "Epoch 4/20\n",
      "\u001b[1m363/363\u001b[0m \u001b[32m━━━━━━━━━━━━━━━━━━━━\u001b[0m\u001b[37m\u001b[0m \u001b[1m1s\u001b[0m 2ms/step - dense_15_RootMeanSquaredError: 0.6470 - dense_15_loss: 0.3770 - dense_16_RootMeanSquaredError: 0.7363 - dense_16_loss: 0.0542 - loss: 0.4312 - val_dense_15_RootMeanSquaredError: 0.6122 - val_dense_15_loss: 0.3372 - val_dense_16_RootMeanSquaredError: 0.7624 - val_dense_16_loss: 0.0581 - val_loss: 0.3954\n",
      "Epoch 5/20\n",
      "\u001b[1m363/363\u001b[0m \u001b[32m━━━━━━━━━━━━━━━━━━━━\u001b[0m\u001b[37m\u001b[0m \u001b[1m1s\u001b[0m 2ms/step - dense_15_RootMeanSquaredError: 0.6310 - dense_15_loss: 0.3585 - dense_16_RootMeanSquaredError: 0.7179 - dense_16_loss: 0.0516 - loss: 0.4100 - val_dense_15_RootMeanSquaredError: 0.5962 - val_dense_15_loss: 0.3198 - val_dense_16_RootMeanSquaredError: 0.7025 - val_dense_16_loss: 0.0493 - val_loss: 0.3693\n",
      "Epoch 6/20\n",
      "\u001b[1m363/363\u001b[0m \u001b[32m━━━━━━━━━━━━━━━━━━━━\u001b[0m\u001b[37m\u001b[0m \u001b[1m1s\u001b[0m 2ms/step - dense_15_RootMeanSquaredError: 0.6205 - dense_15_loss: 0.3467 - dense_16_RootMeanSquaredError: 0.7028 - dense_16_loss: 0.0494 - loss: 0.3961 - val_dense_15_RootMeanSquaredError: 0.5833 - val_dense_15_loss: 0.3062 - val_dense_16_RootMeanSquaredError: 0.6922 - val_dense_16_loss: 0.0479 - val_loss: 0.3541\n",
      "Epoch 7/20\n",
      "\u001b[1m363/363\u001b[0m \u001b[32m━━━━━━━━━━━━━━━━━━━━\u001b[0m\u001b[37m\u001b[0m \u001b[1m1s\u001b[0m 2ms/step - dense_15_RootMeanSquaredError: 0.6126 - dense_15_loss: 0.3379 - dense_16_RootMeanSquaredError: 0.6906 - dense_16_loss: 0.0477 - loss: 0.3856 - val_dense_15_RootMeanSquaredError: 0.6423 - val_dense_15_loss: 0.3712 - val_dense_16_RootMeanSquaredError: 0.6619 - val_dense_16_loss: 0.0438 - val_loss: 0.4151\n",
      "Epoch 8/20\n",
      "\u001b[1m363/363\u001b[0m \u001b[32m━━━━━━━━━━━━━━━━━━━━\u001b[0m\u001b[37m\u001b[0m \u001b[1m1s\u001b[0m 2ms/step - dense_15_RootMeanSquaredError: 0.6066 - dense_15_loss: 0.3314 - dense_16_RootMeanSquaredError: 0.6813 - dense_16_loss: 0.0464 - loss: 0.3778 - val_dense_15_RootMeanSquaredError: 0.6360 - val_dense_15_loss: 0.3640 - val_dense_16_RootMeanSquaredError: 0.6974 - val_dense_16_loss: 0.0486 - val_loss: 0.4127\n",
      "Epoch 9/20\n",
      "\u001b[1m363/363\u001b[0m \u001b[32m━━━━━━━━━━━━━━━━━━━━\u001b[0m\u001b[37m\u001b[0m \u001b[1m1s\u001b[0m 2ms/step - dense_15_RootMeanSquaredError: 0.6020 - dense_15_loss: 0.3263 - dense_16_RootMeanSquaredError: 0.6728 - dense_16_loss: 0.0453 - loss: 0.3715 - val_dense_15_RootMeanSquaredError: 0.8516 - val_dense_15_loss: 0.6524 - val_dense_16_RootMeanSquaredError: 0.6845 - val_dense_16_loss: 0.0469 - val_loss: 0.6996\n",
      "Epoch 10/20\n",
      "\u001b[1m363/363\u001b[0m \u001b[32m━━━━━━━━━━━━━━━━━━━━\u001b[0m\u001b[37m\u001b[0m \u001b[1m1s\u001b[0m 2ms/step - dense_15_RootMeanSquaredError: 0.5994 - dense_15_loss: 0.3235 - dense_16_RootMeanSquaredError: 0.6662 - dense_16_loss: 0.0444 - loss: 0.3679 - val_dense_15_RootMeanSquaredError: 0.9414 - val_dense_15_loss: 0.7972 - val_dense_16_RootMeanSquaredError: 0.8804 - val_dense_16_loss: 0.0775 - val_loss: 0.8751\n",
      "Epoch 11/20\n",
      "\u001b[1m363/363\u001b[0m \u001b[32m━━━━━━━━━━━━━━━━━━━━\u001b[0m\u001b[37m\u001b[0m \u001b[1m1s\u001b[0m 2ms/step - dense_15_RootMeanSquaredError: 0.5971 - dense_15_loss: 0.3209 - dense_16_RootMeanSquaredError: 0.6623 - dense_16_loss: 0.0439 - loss: 0.3648 - val_dense_15_RootMeanSquaredError: 1.4000 - val_dense_15_loss: 1.7632 - val_dense_16_RootMeanSquaredError: 1.1964 - val_dense_16_loss: 0.1431 - val_loss: 1.9072\n",
      "Epoch 12/20\n",
      "\u001b[1m363/363\u001b[0m \u001b[32m━━━━━━━━━━━━━━━━━━━━\u001b[0m\u001b[37m\u001b[0m \u001b[1m1s\u001b[0m 2ms/step - dense_15_RootMeanSquaredError: 0.5983 - dense_15_loss: 0.3223 - dense_16_RootMeanSquaredError: 0.6609 - dense_16_loss: 0.0437 - loss: 0.3660 - val_dense_15_RootMeanSquaredError: 1.0548 - val_dense_15_loss: 1.0010 - val_dense_16_RootMeanSquaredError: 0.9601 - val_dense_16_loss: 0.0921 - val_loss: 1.0936\n",
      "Epoch 13/20\n",
      "\u001b[1m363/363\u001b[0m \u001b[32m━━━━━━━━━━━━━━━━━━━━\u001b[0m\u001b[37m\u001b[0m \u001b[1m1s\u001b[0m 2ms/step - dense_15_RootMeanSquaredError: 0.5921 - dense_15_loss: 0.3156 - dense_16_RootMeanSquaredError: 0.6534 - dense_16_loss: 0.0427 - loss: 0.3583 - val_dense_15_RootMeanSquaredError: 0.6622 - val_dense_15_loss: 0.3945 - val_dense_16_RootMeanSquaredError: 0.6331 - val_dense_16_loss: 0.0401 - val_loss: 0.4347\n",
      "Epoch 14/20\n",
      "\u001b[1m363/363\u001b[0m \u001b[32m━━━━━━━━━━━━━━━━━━━━\u001b[0m\u001b[37m\u001b[0m \u001b[1m1s\u001b[0m 2ms/step - dense_15_RootMeanSquaredError: 0.5891 - dense_15_loss: 0.3124 - dense_16_RootMeanSquaredError: 0.6496 - dense_16_loss: 0.0422 - loss: 0.3546 - val_dense_15_RootMeanSquaredError: 0.7564 - val_dense_15_loss: 0.5148 - val_dense_16_RootMeanSquaredError: 0.6992 - val_dense_16_loss: 0.0489 - val_loss: 0.5638\n",
      "Epoch 15/20\n",
      "\u001b[1m363/363\u001b[0m \u001b[32m━━━━━━━━━━━━━━━━━━━━\u001b[0m\u001b[37m\u001b[0m \u001b[1m1s\u001b[0m 2ms/step - dense_15_RootMeanSquaredError: 0.5878 - dense_15_loss: 0.3111 - dense_16_RootMeanSquaredError: 0.6463 - dense_16_loss: 0.0418 - loss: 0.3529 - val_dense_15_RootMeanSquaredError: 0.8130 - val_dense_15_loss: 0.5947 - val_dense_16_RootMeanSquaredError: 0.6273 - val_dense_16_loss: 0.0393 - val_loss: 0.6342\n",
      "Epoch 16/20\n",
      "\u001b[1m363/363\u001b[0m \u001b[32m━━━━━━━━━━━━━━━━━━━━\u001b[0m\u001b[37m\u001b[0m \u001b[1m1s\u001b[0m 2ms/step - dense_15_RootMeanSquaredError: 0.5871 - dense_15_loss: 0.3103 - dense_16_RootMeanSquaredError: 0.6439 - dense_16_loss: 0.0415 - loss: 0.3517 - val_dense_15_RootMeanSquaredError: 0.9391 - val_dense_15_loss: 0.7934 - val_dense_16_RootMeanSquaredError: 0.7564 - val_dense_16_loss: 0.0572 - val_loss: 0.8510\n",
      "Epoch 17/20\n",
      "\u001b[1m363/363\u001b[0m \u001b[32m━━━━━━━━━━━━━━━━━━━━\u001b[0m\u001b[37m\u001b[0m \u001b[1m1s\u001b[0m 2ms/step - dense_15_RootMeanSquaredError: 0.5858 - dense_15_loss: 0.3089 - dense_16_RootMeanSquaredError: 0.6410 - dense_16_loss: 0.0411 - loss: 0.3500 - val_dense_15_RootMeanSquaredError: 1.1126 - val_dense_15_loss: 1.1137 - val_dense_16_RootMeanSquaredError: 0.9608 - val_dense_16_loss: 0.0923 - val_loss: 1.2065\n",
      "Epoch 18/20\n",
      "\u001b[1m363/363\u001b[0m \u001b[32m━━━━━━━━━━━━━━━━━━━━\u001b[0m\u001b[37m\u001b[0m \u001b[1m1s\u001b[0m 2ms/step - dense_15_RootMeanSquaredError: 0.5860 - dense_15_loss: 0.3092 - dense_16_RootMeanSquaredError: 0.6411 - dense_16_loss: 0.0411 - loss: 0.3503 - val_dense_15_RootMeanSquaredError: 1.1240 - val_dense_15_loss: 1.1365 - val_dense_16_RootMeanSquaredError: 1.2006 - val_dense_16_loss: 0.1441 - val_loss: 1.2811\n",
      "Epoch 19/20\n",
      "\u001b[1m363/363\u001b[0m \u001b[32m━━━━━━━━━━━━━━━━━━━━\u001b[0m\u001b[37m\u001b[0m \u001b[1m1s\u001b[0m 2ms/step - dense_15_RootMeanSquaredError: 0.5840 - dense_15_loss: 0.3071 - dense_16_RootMeanSquaredError: 0.6391 - dense_16_loss: 0.0409 - loss: 0.3479 - val_dense_15_RootMeanSquaredError: 0.7982 - val_dense_15_loss: 0.5732 - val_dense_16_RootMeanSquaredError: 0.6419 - val_dense_16_loss: 0.0412 - val_loss: 0.6146\n",
      "Epoch 20/20\n",
      "\u001b[1m363/363\u001b[0m \u001b[32m━━━━━━━━━━━━━━━━━━━━\u001b[0m\u001b[37m\u001b[0m \u001b[1m1s\u001b[0m 2ms/step - dense_15_RootMeanSquaredError: 0.5819 - dense_15_loss: 0.3048 - dense_16_RootMeanSquaredError: 0.6354 - dense_16_loss: 0.0404 - loss: 0.3452 - val_dense_15_RootMeanSquaredError: 0.8236 - val_dense_15_loss: 0.6102 - val_dense_16_RootMeanSquaredError: 0.7443 - val_dense_16_loss: 0.0554 - val_loss: 0.6658\n"
     ]
    }
   ],
   "source": [
    "norm_layer_wide.adapt(X_train_wide)\n",
    "norm_layer_deep.adapt(X_train_deep)\n",
    "history = model.fit(\n",
    "    (X_train_wide,X_train_deep),(y_train,y_train),epochs=20,\n",
    "                   validation_data=((X_valid_wide,X_valid_deep),(y_valid,y_valid))\n",
    ")"
   ]
  },
  {
   "cell_type": "code",
   "execution_count": 50,
   "id": "b3246635-d4f3-4272-acca-1df3a50c8902",
   "metadata": {},
   "outputs": [
    {
     "name": "stdout",
     "output_type": "stream",
     "text": [
      "\u001b[1m162/162\u001b[0m \u001b[32m━━━━━━━━━━━━━━━━━━━━\u001b[0m\u001b[37m\u001b[0m \u001b[1m0s\u001b[0m 2ms/step - dense_15_RootMeanSquaredError: 0.5771 - dense_15_loss: 0.2999 - dense_16_RootMeanSquaredError: 0.6320 - dense_16_loss: 0.0400 - loss: 0.3398\n"
     ]
    }
   ],
   "source": [
    "eval_results = model.evaluate((X_test_wide,X_test_deep),(y_test,y_test))\n",
    "weighted_sum_of_losses,main_loss,aux_loss,main_rmse,aux_rmse=eval_results"
   ]
  },
  {
   "cell_type": "code",
   "execution_count": 51,
   "id": "4642837d-b977-4e80-bc16-0252bc4720c2",
   "metadata": {},
   "outputs": [
    {
     "name": "stdout",
     "output_type": "stream",
     "text": [
      "\u001b[1m1/1\u001b[0m \u001b[32m━━━━━━━━━━━━━━━━━━━━\u001b[0m\u001b[37m\u001b[0m \u001b[1m0s\u001b[0m 83ms/step\n"
     ]
    }
   ],
   "source": [
    "y_pred_main,y_pred_aux = model.predict((X_new_wide,X_new_deep))"
   ]
  },
  {
   "cell_type": "code",
   "execution_count": 53,
   "id": "95781bf8-660a-4144-9afb-1a9069252e26",
   "metadata": {},
   "outputs": [
    {
     "name": "stdout",
     "output_type": "stream",
     "text": [
      "\u001b[1m1/1\u001b[0m \u001b[32m━━━━━━━━━━━━━━━━━━━━\u001b[0m\u001b[37m\u001b[0m \u001b[1m0s\u001b[0m 78ms/step\n"
     ]
    }
   ],
   "source": [
    "y_pred_tuple = model.predict((X_new_wide,X_new_deep))\n",
    "y_pred = dict(zip(model.output_names,y_pred_tuple))"
   ]
  },
  {
   "cell_type": "code",
   "execution_count": 54,
   "id": "c07674f8-7fad-4535-8e8b-da0af199513c",
   "metadata": {},
   "outputs": [
    {
     "data": {
      "text/plain": [
       "{'dense_15': array([[0.32203078],\n",
       "        [1.166763  ],\n",
       "        [3.5270858 ]], dtype=float32),\n",
       " 'dense_16': array([[0.17696907],\n",
       "        [1.0766548 ],\n",
       "        [3.1211343 ]], dtype=float32)}"
      ]
     },
     "execution_count": 54,
     "metadata": {},
     "output_type": "execute_result"
    }
   ],
   "source": [
    "y_pred"
   ]
  },
  {
   "cell_type": "markdown",
   "id": "0fb38419-866c-4ea8-860b-c441c883768f",
   "metadata": {},
   "source": [
    "### Using the Sequential API to build dynamic models"
   ]
  },
  {
   "cell_type": "code",
   "execution_count": 65,
   "id": "e190b7bd-27d0-4804-82dd-c07cc2cf8100",
   "metadata": {},
   "outputs": [],
   "source": [
    "class WideAndDeepModel(tf.keras.Model):\n",
    "    def __init__(self, units=30, activation=\"relu\", **kwargs):\n",
    "        super().__init__(**kwargs)  # needed to support naming the model\n",
    "        self.norm_layer_wide = tf.keras.layers.Normalization()\n",
    "        self.norm_layer_deep = tf.keras.layers.Normalization()\n",
    "        self.hidden1 = tf.keras.layers.Dense(units, activation=activation)\n",
    "        self.hidden2 = tf.keras.layers.Dense(units, activation=activation)\n",
    "        self.main_output = tf.keras.layers.Dense(1)\n",
    "        self.aux_output = tf.keras.layers.Dense(1)\n",
    "        \n",
    "    def call(self, inputs):\n",
    "        input_wide, input_deep = inputs\n",
    "        norm_wide = self.norm_layer_wide(input_wide)\n",
    "        norm_deep = self.norm_layer_deep(input_deep)\n",
    "        hidden1 = self.hidden1(norm_deep)\n",
    "        hidden2 = self.hidden2(hidden1)\n",
    "        concat = tf.keras.layers.concatenate([norm_wide, hidden2])\n",
    "        output = self.main_output(concat)\n",
    "        aux_output = self.aux_output(hidden2)\n",
    "        return output, aux_output\n",
    "\n",
    "tf.random.set_seed(42)  # extra code – just for reproducibility\n",
    "model = WideAndDeepModel(30, activation=\"relu\", name=\"my_cool_model\")"
   ]
  },
  {
   "cell_type": "markdown",
   "id": "e7cf2da8-f460-4907-96b7-1d07141ba193",
   "metadata": {},
   "source": [
    "**Warning**: as explained above, Keras now requires one loss and one metric per output, so I replaced `loss=\"mse\"` with `loss=[\"mse\", \"mse\"]` and I also replaced `metrics=[\"RootMeanSquaredError\"]` with `metrics=[\"RootMeanSquaredError\", \"RootMeanSquaredError\"]` in the code below."
   ]
  },
  {
   "cell_type": "code",
   "execution_count": 69,
   "id": "d3a2407c-c1a1-489d-9194-40a1c1e61f7b",
   "metadata": {},
   "outputs": [
    {
     "name": "stdout",
     "output_type": "stream",
     "text": [
      "Epoch 1/20\n",
      "\u001b[1m363/363\u001b[0m \u001b[32m━━━━━━━━━━━━━━━━━━━━\u001b[0m\u001b[37m\u001b[0m \u001b[1m5s\u001b[0m 6ms/step - RootMeanSquaredError: 0.5742 - RootMeanSquaredError_1: 0.6240 - loss: 0.3357 - mse_loss: 0.0389 - val_RootMeanSquaredError: 0.7010 - val_RootMeanSquaredError_1: 0.7153 - val_loss: 0.4934 - val_mse_loss: 0.0512\n",
      "Epoch 2/20\n",
      "\u001b[1m363/363\u001b[0m \u001b[32m━━━━━━━━━━━━━━━━━━━━\u001b[0m\u001b[37m\u001b[0m \u001b[1m2s\u001b[0m 5ms/step - RootMeanSquaredError: 0.5719 - RootMeanSquaredError_1: 0.6208 - loss: 0.3329 - mse_loss: 0.0386 - val_RootMeanSquaredError: 0.9232 - val_RootMeanSquaredError_1: 0.8290 - val_loss: 0.8358 - val_mse_loss: 0.0687\n",
      "Epoch 3/20\n",
      "\u001b[1m363/363\u001b[0m \u001b[32m━━━━━━━━━━━━━━━━━━━━\u001b[0m\u001b[37m\u001b[0m \u001b[1m1s\u001b[0m 4ms/step - RootMeanSquaredError: 0.5706 - RootMeanSquaredError_1: 0.6186 - loss: 0.3313 - mse_loss: 0.0383 - val_RootMeanSquaredError: 0.6981 - val_RootMeanSquaredError_1: 0.7359 - val_loss: 0.4927 - val_mse_loss: 0.0542\n",
      "Epoch 4/20\n",
      "\u001b[1m363/363\u001b[0m \u001b[32m━━━━━━━━━━━━━━━━━━━━\u001b[0m\u001b[37m\u001b[0m \u001b[1m1s\u001b[0m 4ms/step - RootMeanSquaredError: 0.5696 - RootMeanSquaredError_1: 0.6167 - loss: 0.3301 - mse_loss: 0.0380 - val_RootMeanSquaredError: 1.1033 - val_RootMeanSquaredError_1: 1.5296 - val_loss: 1.3294 - val_mse_loss: 0.2338\n",
      "Epoch 5/20\n",
      "\u001b[1m363/363\u001b[0m \u001b[32m━━━━━━━━━━━━━━━━━━━━\u001b[0m\u001b[37m\u001b[0m \u001b[1m1s\u001b[0m 4ms/step - RootMeanSquaredError: 0.5694 - RootMeanSquaredError_1: 0.6180 - loss: 0.3300 - mse_loss: 0.0382 - val_RootMeanSquaredError: 1.4073 - val_RootMeanSquaredError_1: 1.4696 - val_loss: 1.9984 - val_mse_loss: 0.2159\n",
      "Epoch 6/20\n",
      "\u001b[1m363/363\u001b[0m \u001b[32m━━━━━━━━━━━━━━━━━━━━\u001b[0m\u001b[37m\u001b[0m \u001b[1m1s\u001b[0m 4ms/step - RootMeanSquaredError: 0.5717 - RootMeanSquaredError_1: 0.6169 - loss: 0.3323 - mse_loss: 0.0381 - val_RootMeanSquaredError: 0.7982 - val_RootMeanSquaredError_1: 0.6855 - val_loss: 0.6203 - val_mse_loss: 0.0470\n",
      "Epoch 7/20\n",
      "\u001b[1m363/363\u001b[0m \u001b[32m━━━━━━━━━━━━━━━━━━━━\u001b[0m\u001b[37m\u001b[0m \u001b[1m1s\u001b[0m 4ms/step - RootMeanSquaredError: 0.5657 - RootMeanSquaredError_1: 0.6098 - loss: 0.3253 - mse_loss: 0.0372 - val_RootMeanSquaredError: 0.7987 - val_RootMeanSquaredError_1: 1.2571 - val_loss: 0.7321 - val_mse_loss: 0.1580\n",
      "Epoch 8/20\n",
      "\u001b[1m363/363\u001b[0m \u001b[32m━━━━━━━━━━━━━━━━━━━━\u001b[0m\u001b[37m\u001b[0m \u001b[1m2s\u001b[0m 4ms/step - RootMeanSquaredError: 0.5650 - RootMeanSquaredError_1: 0.6121 - loss: 0.3248 - mse_loss: 0.0375 - val_RootMeanSquaredError: 0.7293 - val_RootMeanSquaredError_1: 0.7954 - val_loss: 0.5420 - val_mse_loss: 0.0633\n",
      "Epoch 9/20\n",
      "\u001b[1m363/363\u001b[0m \u001b[32m━━━━━━━━━━━━━━━━━━━━\u001b[0m\u001b[37m\u001b[0m \u001b[1m2s\u001b[0m 5ms/step - RootMeanSquaredError: 0.5633 - RootMeanSquaredError_1: 0.6074 - loss: 0.3225 - mse_loss: 0.0369 - val_RootMeanSquaredError: 0.6689 - val_RootMeanSquaredError_1: 0.7044 - val_loss: 0.4523 - val_mse_loss: 0.0496\n",
      "Epoch 10/20\n",
      "\u001b[1m363/363\u001b[0m \u001b[32m━━━━━━━━━━━━━━━━━━━━\u001b[0m\u001b[37m\u001b[0m \u001b[1m2s\u001b[0m 4ms/step - RootMeanSquaredError: 0.5620 - RootMeanSquaredError_1: 0.6045 - loss: 0.3209 - mse_loss: 0.0366 - val_RootMeanSquaredError: 0.6350 - val_RootMeanSquaredError_1: 0.6122 - val_loss: 0.4003 - val_mse_loss: 0.0375\n",
      "Epoch 11/20\n",
      "\u001b[1m363/363\u001b[0m \u001b[32m━━━━━━━━━━━━━━━━━━━━\u001b[0m\u001b[37m\u001b[0m \u001b[1m1s\u001b[0m 4ms/step - RootMeanSquaredError: 0.5608 - RootMeanSquaredError_1: 0.6029 - loss: 0.3195 - mse_loss: 0.0364 - val_RootMeanSquaredError: 0.6541 - val_RootMeanSquaredError_1: 0.7249 - val_loss: 0.4376 - val_mse_loss: 0.0525\n",
      "Epoch 12/20\n",
      "\u001b[1m363/363\u001b[0m \u001b[32m━━━━━━━━━━━━━━━━━━━━\u001b[0m\u001b[37m\u001b[0m \u001b[1m2s\u001b[0m 4ms/step - RootMeanSquaredError: 0.5601 - RootMeanSquaredError_1: 0.6015 - loss: 0.3186 - mse_loss: 0.0362 - val_RootMeanSquaredError: 0.6765 - val_RootMeanSquaredError_1: 0.6301 - val_loss: 0.4516 - val_mse_loss: 0.0397\n",
      "Epoch 13/20\n",
      "\u001b[1m363/363\u001b[0m \u001b[32m━━━━━━━━━━━━━━━━━━━━\u001b[0m\u001b[37m\u001b[0m \u001b[1m1s\u001b[0m 4ms/step - RootMeanSquaredError: 0.5588 - RootMeanSquaredError_1: 0.6002 - loss: 0.3171 - mse_loss: 0.0360 - val_RootMeanSquaredError: 0.8077 - val_RootMeanSquaredError_1: 0.9902 - val_loss: 0.6852 - val_mse_loss: 0.0980\n",
      "Epoch 14/20\n",
      "\u001b[1m363/363\u001b[0m \u001b[32m━━━━━━━━━━━━━━━━━━━━\u001b[0m\u001b[37m\u001b[0m \u001b[1m1s\u001b[0m 4ms/step - RootMeanSquaredError: 0.5592 - RootMeanSquaredError_1: 0.6017 - loss: 0.3177 - mse_loss: 0.0362 - val_RootMeanSquaredError: 0.8673 - val_RootMeanSquaredError_1: 0.9026 - val_loss: 0.7585 - val_mse_loss: 0.0814\n",
      "Epoch 15/20\n",
      "\u001b[1m363/363\u001b[0m \u001b[32m━━━━━━━━━━━━━━━━━━━━\u001b[0m\u001b[37m\u001b[0m \u001b[1m2s\u001b[0m 4ms/step - RootMeanSquaredError: 0.5583 - RootMeanSquaredError_1: 0.6008 - loss: 0.3166 - mse_loss: 0.0361 - val_RootMeanSquaredError: 0.7855 - val_RootMeanSquaredError_1: 0.9070 - val_loss: 0.6376 - val_mse_loss: 0.0822\n",
      "Epoch 16/20\n",
      "\u001b[1m363/363\u001b[0m \u001b[32m━━━━━━━━━━━━━━━━━━━━\u001b[0m\u001b[37m\u001b[0m \u001b[1m2s\u001b[0m 4ms/step - RootMeanSquaredError: 0.5568 - RootMeanSquaredError_1: 0.5983 - loss: 0.3148 - mse_loss: 0.0358 - val_RootMeanSquaredError: 0.6113 - val_RootMeanSquaredError_1: 0.6189 - val_loss: 0.3747 - val_mse_loss: 0.0383\n",
      "Epoch 17/20\n",
      "\u001b[1m363/363\u001b[0m \u001b[32m━━━━━━━━━━━━━━━━━━━━\u001b[0m\u001b[37m\u001b[0m \u001b[1m1s\u001b[0m 4ms/step - RootMeanSquaredError: 0.5550 - RootMeanSquaredError_1: 0.5969 - loss: 0.3130 - mse_loss: 0.0356 - val_RootMeanSquaredError: 0.8713 - val_RootMeanSquaredError_1: 1.2679 - val_loss: 0.8441 - val_mse_loss: 0.1607\n",
      "Epoch 18/20\n",
      "\u001b[1m363/363\u001b[0m \u001b[32m━━━━━━━━━━━━━━━━━━━━\u001b[0m\u001b[37m\u001b[0m \u001b[1m1s\u001b[0m 4ms/step - RootMeanSquaredError: 0.5556 - RootMeanSquaredError_1: 0.5995 - loss: 0.3138 - mse_loss: 0.0360 - val_RootMeanSquaredError: 0.7073 - val_RootMeanSquaredError_1: 0.9260 - val_loss: 0.5359 - val_mse_loss: 0.0857\n",
      "Epoch 19/20\n",
      "\u001b[1m363/363\u001b[0m \u001b[32m━━━━━━━━━━━━━━━━━━━━\u001b[0m\u001b[37m\u001b[0m \u001b[1m1s\u001b[0m 4ms/step - RootMeanSquaredError: 0.5547 - RootMeanSquaredError_1: 0.5978 - loss: 0.3127 - mse_loss: 0.0357 - val_RootMeanSquaredError: 0.6859 - val_RootMeanSquaredError_1: 0.6575 - val_loss: 0.4666 - val_mse_loss: 0.0432\n",
      "Epoch 20/20\n",
      "\u001b[1m363/363\u001b[0m \u001b[32m━━━━━━━━━━━━━━━━━━━━\u001b[0m\u001b[37m\u001b[0m \u001b[1m1s\u001b[0m 4ms/step - RootMeanSquaredError: 0.5537 - RootMeanSquaredError_1: 0.5945 - loss: 0.3113 - mse_loss: 0.0354 - val_RootMeanSquaredError: 0.6182 - val_RootMeanSquaredError_1: 0.6021 - val_loss: 0.3802 - val_mse_loss: 0.0363\n",
      "\u001b[1m162/162\u001b[0m \u001b[32m━━━━━━━━━━━━━━━━━━━━\u001b[0m\u001b[37m\u001b[0m \u001b[1m0s\u001b[0m 3ms/step - RootMeanSquaredError: 0.5581 - RootMeanSquaredError_1: 0.6032 - loss: 0.3168 - mse_loss: 0.0364\n",
      "WARNING:tensorflow:5 out of the last 7 calls to <function TensorFlowTrainer.make_predict_function.<locals>.one_step_on_data_distributed at 0x0000020E7F807130> triggered tf.function retracing. Tracing is expensive and the excessive number of tracings could be due to (1) creating @tf.function repeatedly in a loop, (2) passing tensors with different shapes, (3) passing Python objects instead of tensors. For (1), please define your @tf.function outside of the loop. For (2), @tf.function has reduce_retracing=True option that can avoid unnecessary retracing. For (3), please refer to https://www.tensorflow.org/guide/function#controlling_retracing and https://www.tensorflow.org/api_docs/python/tf/function for  more details.\n",
      "\u001b[1m1/1\u001b[0m \u001b[32m━━━━━━━━━━━━━━━━━━━━\u001b[0m\u001b[37m\u001b[0m \u001b[1m0s\u001b[0m 150ms/step\n"
     ]
    }
   ],
   "source": [
    "optimizer = tf.keras.optimizers.Adam(learning_rate=1e-3)\n",
    "model.compile(loss=[\"mse\",\"mse\"],loss_weights=[0.9,0.1],optimizer=optimizer,\n",
    "             metrics=[\"RootMeanSquaredError\",\"RootMeanSquaredError\"])\n",
    "model.norm_layer_wide.adapt(X_train_wide)\n",
    "model.norm_layer_deep.adapt(X_train_deep)\n",
    "\n",
    "history = model.fit((X_train_wide,X_train_deep),(y_train,y_train),epochs=20,\n",
    "                   validation_data=((X_valid_wide,X_valid_deep),(y_valid,y_valid)))\n",
    "eval_result = model.evaluate((X_test_wide,X_test_deep),(y_test,y_test))\n",
    "y_pred_main,y_pred_aux = model.predict((X_new_wide,X_new_deep))"
   ]
  },
  {
   "cell_type": "markdown",
   "id": "edb7a4f2-fb10-4608-86c0-d481e2cd62b7",
   "metadata": {},
   "source": [
    "### **Saving and Restoring Model**"
   ]
  },
  {
   "cell_type": "markdown",
   "id": "ab408d2d-bd91-433b-b86d-27b03e42adf0",
   "metadata": {},
   "source": [
    "**Warning**: Keras now recommends using the `.keras` format to save models, and the `h5` format for weights. Therefore I have updated the code in this section to first show what you need to change if you still want to use TensorFlow's `SavedModel` format, and then how you can use the recommended formats."
   ]
  },
  {
   "cell_type": "code",
   "execution_count": 70,
   "id": "61c3feac-f5d2-4d6e-846e-59ed0da3b1a6",
   "metadata": {},
   "outputs": [],
   "source": [
    "# extra code – delete the directory, in case it already exists\n",
    "\n",
    "import shutil\n",
    "\n",
    "shutil.rmtree(\"my_keras_model\", ignore_errors=True)"
   ]
  },
  {
   "cell_type": "markdown",
   "id": "8e52def5-27df-45b0-a270-b271fb251c49",
   "metadata": {},
   "source": [
    "** **bold text**Warning**: Keras's `model.save()` method no longer supports TensorFlow's `SavedModel` format. However, you can still export models to the `SavedModel` format using `model.export()` like this:\r\n",
    "\r\n",
    "*   List item\r\n",
    "*   List item\r\n",
    "\r\n"
   ]
  },
  {
   "cell_type": "code",
   "execution_count": 71,
   "id": "be9bad49-6937-46c0-8dc6-757105d31c0b",
   "metadata": {},
   "outputs": [
    {
     "name": "stdout",
     "output_type": "stream",
     "text": [
      "INFO:tensorflow:Assets written to: my_keras_model\\assets\n"
     ]
    },
    {
     "name": "stderr",
     "output_type": "stream",
     "text": [
      "INFO:tensorflow:Assets written to: my_keras_model\\assets\n"
     ]
    },
    {
     "name": "stdout",
     "output_type": "stream",
     "text": [
      "Saved artifact at 'my_keras_model'. The following endpoints are available:\n",
      "\n",
      "* Endpoint 'serve'\n",
      "  args_0 (POSITIONAL_ONLY): Tuple[TensorSpec(shape=(None, 5), dtype=tf.float32, name=None), TensorSpec(shape=(None, 6), dtype=tf.float32, name=None)]\n",
      "Output Type:\n",
      "  Tuple[TensorSpec(shape=(None, 1), dtype=tf.float32, name=None), TensorSpec(shape=(None, 1), dtype=tf.float32, name=None)]\n",
      "Captures:\n",
      "  2260653927664: TensorSpec(shape=(1, 5), dtype=tf.float32, name=None)\n",
      "  2261289033168: TensorSpec(shape=(1, 5), dtype=tf.float32, name=None)\n",
      "  2261290321696: TensorSpec(shape=(1, 6), dtype=tf.float32, name=None)\n",
      "  2261290042112: TensorSpec(shape=(1, 6), dtype=tf.float32, name=None)\n",
      "  2261288661088: TensorSpec(shape=(), dtype=tf.resource, name=None)\n",
      "  2261289025952: TensorSpec(shape=(), dtype=tf.resource, name=None)\n",
      "  2261288660384: TensorSpec(shape=(), dtype=tf.resource, name=None)\n",
      "  2261289031408: TensorSpec(shape=(), dtype=tf.resource, name=None)\n",
      "  2261285603984: TensorSpec(shape=(), dtype=tf.resource, name=None)\n",
      "  2261289038624: TensorSpec(shape=(), dtype=tf.resource, name=None)\n",
      "  2261289025600: TensorSpec(shape=(), dtype=tf.resource, name=None)\n",
      "  2261289031056: TensorSpec(shape=(), dtype=tf.resource, name=None)\n"
     ]
    }
   ],
   "source": [
    "model.export(\"my_keras_model\")"
   ]
  },
  {
   "cell_type": "markdown",
   "id": "6a931268-96c9-4e5c-84c9-d4b4fd2433a8",
   "metadata": {},
   "source": [
    "**Warning**: Keras now requires the saved weights to have the `.weights.h5` extension. There are no longer saved using the `SavedModel` format."
   ]
  },
  {
   "cell_type": "code",
   "execution_count": 85,
   "id": "a43d8f70-9fe5-47f5-b5c3-6bc7c49163f3",
   "metadata": {},
   "outputs": [],
   "source": [
    "model.save_weights(\"my_weights.weights.h5\")"
   ]
  },
  {
   "cell_type": "markdown",
   "id": "28c7c70f-315f-4ae3-8f90-691e0772246c",
   "metadata": {},
   "source": [
    "### Using Callbacks"
   ]
  },
  {
   "cell_type": "code",
   "execution_count": 102,
   "id": "226ee185-9a13-4633-932a-2e8170ea5f8e",
   "metadata": {},
   "outputs": [
    {
     "name": "stdout",
     "output_type": "stream",
     "text": [
      "Epoch 1/10\n",
      "\u001b[1m363/363\u001b[0m \u001b[32m━━━━━━━━━━━━━━━━━━━━\u001b[0m\u001b[37m\u001b[0m \u001b[1m2s\u001b[0m 4ms/step - RootMeanSquaredError: 0.5364 - RootMeanSquaredError_1: 0.5743 - loss: 0.2920 - mse_loss: 0.0330 - val_RootMeanSquaredError: 0.7507 - val_RootMeanSquaredError_1: 0.8143 - val_loss: 0.5735 - val_mse_loss: 0.0663\n",
      "Epoch 2/10\n",
      "\u001b[1m363/363\u001b[0m \u001b[32m━━━━━━━━━━━━━━━━━━━━\u001b[0m\u001b[37m\u001b[0m \u001b[1m1s\u001b[0m 4ms/step - RootMeanSquaredError: 0.5364 - RootMeanSquaredError_1: 0.5743 - loss: 0.2920 - mse_loss: 0.0330 - val_RootMeanSquaredError: 0.5696 - val_RootMeanSquaredError_1: 0.5857 - val_loss: 0.3263 - val_mse_loss: 0.0343\n",
      "Epoch 3/10\n",
      "\u001b[1m363/363\u001b[0m \u001b[32m━━━━━━━━━━━━━━━━━━━━\u001b[0m\u001b[37m\u001b[0m \u001b[1m2s\u001b[0m 4ms/step - RootMeanSquaredError: 0.5360 - RootMeanSquaredError_1: 0.5734 - loss: 0.2915 - mse_loss: 0.0329 - val_RootMeanSquaredError: 0.8223 - val_RootMeanSquaredError_1: 1.0172 - val_loss: 0.7121 - val_mse_loss: 0.1034\n",
      "Epoch 4/10\n",
      "\u001b[1m363/363\u001b[0m \u001b[32m━━━━━━━━━━━━━━━━━━━━\u001b[0m\u001b[37m\u001b[0m \u001b[1m3s\u001b[0m 4ms/step - RootMeanSquaredError: 0.5358 - RootMeanSquaredError_1: 0.5744 - loss: 0.2915 - mse_loss: 0.0330 - val_RootMeanSquaredError: 0.6467 - val_RootMeanSquaredError_1: 0.6276 - val_loss: 0.4158 - val_mse_loss: 0.0394\n",
      "Epoch 5/10\n",
      "\u001b[1m363/363\u001b[0m \u001b[32m━━━━━━━━━━━━━━━━━━━━\u001b[0m\u001b[37m\u001b[0m \u001b[1m1s\u001b[0m 4ms/step - RootMeanSquaredError: 0.5368 - RootMeanSquaredError_1: 0.5737 - loss: 0.2923 - mse_loss: 0.0329 - val_RootMeanSquaredError: 0.5977 - val_RootMeanSquaredError_1: 0.7505 - val_loss: 0.3779 - val_mse_loss: 0.0563\n",
      "Epoch 6/10\n",
      "\u001b[1m363/363\u001b[0m \u001b[32m━━━━━━━━━━━━━━━━━━━━\u001b[0m\u001b[37m\u001b[0m \u001b[1m1s\u001b[0m 4ms/step - RootMeanSquaredError: 0.5355 - RootMeanSquaredError_1: 0.5740 - loss: 0.2911 - mse_loss: 0.0330 - val_RootMeanSquaredError: 0.5347 - val_RootMeanSquaredError_1: 0.5971 - val_loss: 0.2929 - val_mse_loss: 0.0356\n",
      "Epoch 7/10\n",
      "\u001b[1m363/363\u001b[0m \u001b[32m━━━━━━━━━━━━━━━━━━━━\u001b[0m\u001b[37m\u001b[0m \u001b[1m2s\u001b[0m 4ms/step - RootMeanSquaredError: 0.5344 - RootMeanSquaredError_1: 0.5719 - loss: 0.2899 - mse_loss: 0.0327 - val_RootMeanSquaredError: 0.5776 - val_RootMeanSquaredError_1: 0.6917 - val_loss: 0.3481 - val_mse_loss: 0.0478\n",
      "Epoch 8/10\n",
      "\u001b[1m363/363\u001b[0m \u001b[32m━━━━━━━━━━━━━━━━━━━━\u001b[0m\u001b[37m\u001b[0m \u001b[1m1s\u001b[0m 4ms/step - RootMeanSquaredError: 0.5343 - RootMeanSquaredError_1: 0.5722 - loss: 0.2897 - mse_loss: 0.0328 - val_RootMeanSquaredError: 0.5380 - val_RootMeanSquaredError_1: 0.5799 - val_loss: 0.2941 - val_mse_loss: 0.0336\n",
      "Epoch 9/10\n",
      "\u001b[1m363/363\u001b[0m \u001b[32m━━━━━━━━━━━━━━━━━━━━\u001b[0m\u001b[37m\u001b[0m \u001b[1m1s\u001b[0m 4ms/step - RootMeanSquaredError: 0.5339 - RootMeanSquaredError_1: 0.5717 - loss: 0.2894 - mse_loss: 0.0327 - val_RootMeanSquaredError: 0.8462 - val_RootMeanSquaredError_1: 0.9883 - val_loss: 0.7420 - val_mse_loss: 0.0976\n",
      "Epoch 10/10\n",
      "\u001b[1m363/363\u001b[0m \u001b[32m━━━━━━━━━━━━━━━━━━━━\u001b[0m\u001b[37m\u001b[0m \u001b[1m2s\u001b[0m 4ms/step - RootMeanSquaredError: 0.5348 - RootMeanSquaredError_1: 0.5725 - loss: 0.2903 - mse_loss: 0.0328 - val_RootMeanSquaredError: 0.7479 - val_RootMeanSquaredError_1: 0.7536 - val_loss: 0.5603 - val_mse_loss: 0.0568\n"
     ]
    }
   ],
   "source": [
    "checkpoint_cb = tf.keras.callbacks.ModelCheckpoint(\"my_checkpoints.weights.h5\",\n",
    "                                                   save_weights_only=True)\n",
    "history = model.fit((X_train_wide,X_train_deep),(y_train,y_train),epochs=10,\n",
    "                    validation_data=((X_valid_wide,X_valid_deep),(y_valid,y_valid)),callbacks=[checkpoint_cb])\n"
   ]
  },
  {
   "cell_type": "markdown",
   "id": "ce2bde77-753c-49f0-b41b-c10b9ac08072",
   "metadata": {},
   "source": [
    "#### if we use a validation set during training, we can set save_best_only = True when creating the ModelCheckpoint.\n",
    "#### In this case it will save the model when its performance on the validation set is the best so far.\n",
    "#### This way simply restore the last saved model\n",
    "#### Another way to use the EarlyStopping \n",
    "#### set restore_best_weights = True will rollback to the best model at the end of training."
   ]
  },
  {
   "cell_type": "code",
   "execution_count": 103,
   "id": "1fb029b4-abd2-4b61-8468-bc4be61a026e",
   "metadata": {},
   "outputs": [
    {
     "name": "stdout",
     "output_type": "stream",
     "text": [
      "Epoch 1/100\n",
      "\u001b[1m363/363\u001b[0m \u001b[32m━━━━━━━━━━━━━━━━━━━━\u001b[0m\u001b[37m\u001b[0m \u001b[1m2s\u001b[0m 5ms/step - RootMeanSquaredError: 0.5347 - RootMeanSquaredError_1: 0.5727 - loss: 0.2903 - mse_loss: 0.0328 - val_RootMeanSquaredError: 0.5893 - val_RootMeanSquaredError_1: 0.6262 - val_loss: 0.3517 - val_mse_loss: 0.0392\n",
      "Epoch 2/100\n",
      "\u001b[1m363/363\u001b[0m \u001b[32m━━━━━━━━━━━━━━━━━━━━\u001b[0m\u001b[37m\u001b[0m \u001b[1m2s\u001b[0m 4ms/step - RootMeanSquaredError: 0.5331 - RootMeanSquaredError_1: 0.5716 - loss: 0.2886 - mse_loss: 0.0327 - val_RootMeanSquaredError: 0.5540 - val_RootMeanSquaredError_1: 0.6322 - val_loss: 0.3162 - val_mse_loss: 0.0400\n",
      "Epoch 3/100\n",
      "\u001b[1m363/363\u001b[0m \u001b[32m━━━━━━━━━━━━━━━━━━━━\u001b[0m\u001b[37m\u001b[0m \u001b[1m1s\u001b[0m 4ms/step - RootMeanSquaredError: 0.5337 - RootMeanSquaredError_1: 0.5712 - loss: 0.2891 - mse_loss: 0.0326 - val_RootMeanSquaredError: 0.6653 - val_RootMeanSquaredError_1: 0.7564 - val_loss: 0.4555 - val_mse_loss: 0.0572\n",
      "Epoch 4/100\n",
      "\u001b[1m363/363\u001b[0m \u001b[32m━━━━━━━━━━━━━━━━━━━━\u001b[0m\u001b[37m\u001b[0m \u001b[1m1s\u001b[0m 4ms/step - RootMeanSquaredError: 0.5329 - RootMeanSquaredError_1: 0.5716 - loss: 0.2883 - mse_loss: 0.0327 - val_RootMeanSquaredError: 0.5821 - val_RootMeanSquaredError_1: 0.5787 - val_loss: 0.3385 - val_mse_loss: 0.0335\n",
      "Epoch 5/100\n",
      "\u001b[1m363/363\u001b[0m \u001b[32m━━━━━━━━━━━━━━━━━━━━\u001b[0m\u001b[37m\u001b[0m \u001b[1m3s\u001b[0m 4ms/step - RootMeanSquaredError: 0.5327 - RootMeanSquaredError_1: 0.5705 - loss: 0.2880 - mse_loss: 0.0326 - val_RootMeanSquaredError: 0.6056 - val_RootMeanSquaredError_1: 0.6180 - val_loss: 0.3683 - val_mse_loss: 0.0382\n",
      "Epoch 6/100\n",
      "\u001b[1m363/363\u001b[0m \u001b[32m━━━━━━━━━━━━━━━━━━━━\u001b[0m\u001b[37m\u001b[0m \u001b[1m2s\u001b[0m 4ms/step - RootMeanSquaredError: 0.5326 - RootMeanSquaredError_1: 0.5706 - loss: 0.2879 - mse_loss: 0.0326 - val_RootMeanSquaredError: 0.5382 - val_RootMeanSquaredError_1: 0.6116 - val_loss: 0.2981 - val_mse_loss: 0.0374\n",
      "Epoch 7/100\n",
      "\u001b[1m363/363\u001b[0m \u001b[32m━━━━━━━━━━━━━━━━━━━━\u001b[0m\u001b[37m\u001b[0m \u001b[1m2s\u001b[0m 4ms/step - RootMeanSquaredError: 0.5320 - RootMeanSquaredError_1: 0.5701 - loss: 0.2874 - mse_loss: 0.0325 - val_RootMeanSquaredError: 0.9273 - val_RootMeanSquaredError_1: 1.1437 - val_loss: 0.9046 - val_mse_loss: 0.1307\n",
      "Epoch 8/100\n",
      "\u001b[1m363/363\u001b[0m \u001b[32m━━━━━━━━━━━━━━━━━━━━\u001b[0m\u001b[37m\u001b[0m \u001b[1m2s\u001b[0m 5ms/step - RootMeanSquaredError: 0.5323 - RootMeanSquaredError_1: 0.5711 - loss: 0.2877 - mse_loss: 0.0326 - val_RootMeanSquaredError: 0.5644 - val_RootMeanSquaredError_1: 0.5844 - val_loss: 0.3208 - val_mse_loss: 0.0342\n",
      "Epoch 9/100\n",
      "\u001b[1m363/363\u001b[0m \u001b[32m━━━━━━━━━━━━━━━━━━━━\u001b[0m\u001b[37m\u001b[0m \u001b[1m2s\u001b[0m 4ms/step - RootMeanSquaredError: 0.5325 - RootMeanSquaredError_1: 0.5706 - loss: 0.2879 - mse_loss: 0.0326 - val_RootMeanSquaredError: 0.5613 - val_RootMeanSquaredError_1: 0.6622 - val_loss: 0.3274 - val_mse_loss: 0.0438\n",
      "Epoch 10/100\n",
      "\u001b[1m363/363\u001b[0m \u001b[32m━━━━━━━━━━━━━━━━━━━━\u001b[0m\u001b[37m\u001b[0m \u001b[1m3s\u001b[0m 4ms/step - RootMeanSquaredError: 0.5315 - RootMeanSquaredError_1: 0.5699 - loss: 0.2868 - mse_loss: 0.0325 - val_RootMeanSquaredError: 0.5444 - val_RootMeanSquaredError_1: 0.5888 - val_loss: 0.3014 - val_mse_loss: 0.0347\n",
      "Epoch 11/100\n",
      "\u001b[1m363/363\u001b[0m \u001b[32m━━━━━━━━━━━━━━━━━━━━\u001b[0m\u001b[37m\u001b[0m \u001b[1m2s\u001b[0m 4ms/step - RootMeanSquaredError: 0.5312 - RootMeanSquaredError_1: 0.5698 - loss: 0.2865 - mse_loss: 0.0325 - val_RootMeanSquaredError: 0.9609 - val_RootMeanSquaredError_1: 0.9929 - val_loss: 0.9295 - val_mse_loss: 0.0985\n",
      "Epoch 12/100\n",
      "\u001b[1m363/363\u001b[0m \u001b[32m━━━━━━━━━━━━━━━━━━━━\u001b[0m\u001b[37m\u001b[0m \u001b[1m2s\u001b[0m 4ms/step - RootMeanSquaredError: 0.5322 - RootMeanSquaredError_1: 0.5702 - loss: 0.2875 - mse_loss: 0.0325 - val_RootMeanSquaredError: 0.6686 - val_RootMeanSquaredError_1: 0.6379 - val_loss: 0.4430 - val_mse_loss: 0.0407\n",
      "Epoch 13/100\n",
      "\u001b[1m363/363\u001b[0m \u001b[32m━━━━━━━━━━━━━━━━━━━━\u001b[0m\u001b[37m\u001b[0m \u001b[1m2s\u001b[0m 4ms/step - RootMeanSquaredError: 0.5324 - RootMeanSquaredError_1: 0.5703 - loss: 0.2877 - mse_loss: 0.0325 - val_RootMeanSquaredError: 0.9497 - val_RootMeanSquaredError_1: 1.4122 - val_loss: 1.0112 - val_mse_loss: 0.1993\n",
      "Epoch 14/100\n",
      "\u001b[1m363/363\u001b[0m \u001b[32m━━━━━━━━━━━━━━━━━━━━\u001b[0m\u001b[37m\u001b[0m \u001b[1m3s\u001b[0m 4ms/step - RootMeanSquaredError: 0.5315 - RootMeanSquaredError_1: 0.5719 - loss: 0.2871 - mse_loss: 0.0327 - val_RootMeanSquaredError: 0.7743 - val_RootMeanSquaredError_1: 0.8474 - val_loss: 0.6114 - val_mse_loss: 0.0718\n",
      "Epoch 15/100\n",
      "\u001b[1m363/363\u001b[0m \u001b[32m━━━━━━━━━━━━━━━━━━━━\u001b[0m\u001b[37m\u001b[0m \u001b[1m2s\u001b[0m 4ms/step - RootMeanSquaredError: 0.5320 - RootMeanSquaredError_1: 0.5707 - loss: 0.2874 - mse_loss: 0.0326 - val_RootMeanSquaredError: 0.7859 - val_RootMeanSquaredError_1: 1.0529 - val_loss: 0.6668 - val_mse_loss: 0.1108\n",
      "Epoch 16/100\n",
      "\u001b[1m363/363\u001b[0m \u001b[32m━━━━━━━━━━━━━━━━━━━━\u001b[0m\u001b[37m\u001b[0m \u001b[1m3s\u001b[0m 5ms/step - RootMeanSquaredError: 0.5311 - RootMeanSquaredError_1: 0.5693 - loss: 0.2864 - mse_loss: 0.0324 - val_RootMeanSquaredError: 0.6152 - val_RootMeanSquaredError_1: 0.6481 - val_loss: 0.3826 - val_mse_loss: 0.0420\n"
     ]
    }
   ],
   "source": [
    "early_stopping_cb = tf.keras.callbacks.EarlyStopping(patience=10,restore_best_weights=True)\n",
    "history = model.fit(\n",
    "    (X_train_wide,X_train_deep),(y_train,y_train),epochs=100,\n",
    "    validation_data=((X_valid_wide,X_valid_deep),(y_valid,y_valid)),\n",
    "    callbacks=[checkpoint_cb,early_stopping_cb])\n"
   ]
  },
  {
   "cell_type": "markdown",
   "id": "20a632fd-721e-425b-9a96-9afd76d68bb2",
   "metadata": {},
   "source": [
    "**Here the early stoping came and stop the model to train futher as error is not decreasing.**"
   ]
  },
  {
   "cell_type": "markdown",
   "id": "c44d84cf-4fdc-4132-8680-e1cd69e343c8",
   "metadata": {},
   "source": [
    "### Using TensorBoard for Visualization"
   ]
  },
  {
   "cell_type": "code",
   "execution_count": 114,
   "id": "62714cc3-9ab0-4499-9f2c-e58be4969d22",
   "metadata": {},
   "outputs": [],
   "source": [
    "shutil.rmtree(\"my_logs\", ignore_errors=True)"
   ]
  },
  {
   "cell_type": "code",
   "execution_count": 115,
   "id": "f53f8f0a-6c3e-4828-8867-b4caf67427b7",
   "metadata": {},
   "outputs": [],
   "source": [
    "from pathlib import Path\n",
    "from time import strftime\n",
    "\n",
    "def get_run_logdir(root_logdir=\"my_logs\"):\n",
    "    return Path(root_logdir) / strftime(\"run_%Y_%m_%d_%H_%M_%S\")\n",
    "\n",
    "run_logdir = get_run_logdir()"
   ]
  },
  {
   "cell_type": "code",
   "execution_count": 116,
   "id": "03fee0c8-02b0-43b4-826e-822d2080c48d",
   "metadata": {},
   "outputs": [
    {
     "name": "stdout",
     "output_type": "stream",
     "text": [
      "WARNING:tensorflow:From C:\\Users\\acer\\ML_PATH\\my_env\\lib\\site-packages\\keras\\src\\backend\\common\\global_state.py:82: The name tf.reset_default_graph is deprecated. Please use tf.compat.v1.reset_default_graph instead.\n",
      "\n"
     ]
    },
    {
     "name": "stderr",
     "output_type": "stream",
     "text": [
      "WARNING:tensorflow:From C:\\Users\\acer\\ML_PATH\\my_env\\lib\\site-packages\\keras\\src\\backend\\common\\global_state.py:82: The name tf.reset_default_graph is deprecated. Please use tf.compat.v1.reset_default_graph instead.\n",
      "\n"
     ]
    }
   ],
   "source": [
    "# extra code – builds the first regression model we used earlier\n",
    "tf.keras.backend.clear_session()\n",
    "tf.random.set_seed(42)\n",
    "norm_layer = tf.keras.layers.Normalization(input_shape=X_train.shape[1:])\n",
    "model = tf.keras.Sequential([\n",
    "    norm_layer,\n",
    "    tf.keras.layers.Dense(30, activation=\"relu\"),\n",
    "    tf.keras.layers.Dense(30, activation=\"relu\"),\n",
    "    tf.keras.layers.Dense(1)\n",
    "])\n",
    "optimizer = tf.keras.optimizers.SGD(learning_rate=1e-3)\n",
    "model.compile(loss=\"mse\", optimizer=optimizer, metrics=[\"RootMeanSquaredError\"])\n",
    "norm_layer.adapt(X_train)"
   ]
  },
  {
   "cell_type": "code",
   "execution_count": 117,
   "id": "03f16677-13d0-49e7-be8d-119b0f89ac22",
   "metadata": {},
   "outputs": [
    {
     "name": "stdout",
     "output_type": "stream",
     "text": [
      "Epoch 1/20\n",
      "\u001b[1m363/363\u001b[0m \u001b[32m━━━━━━━━━━━━━━━━━━━━\u001b[0m\u001b[37m\u001b[0m \u001b[1m2s\u001b[0m 3ms/step - RootMeanSquaredError: 1.8215 - loss: 3.4286 - val_RootMeanSquaredError: 1.1467 - val_loss: 1.3150\n",
      "Epoch 2/20\n",
      "\u001b[1m363/363\u001b[0m \u001b[32m━━━━━━━━━━━━━━━━━━━━\u001b[0m\u001b[37m\u001b[0m \u001b[1m1s\u001b[0m 3ms/step - RootMeanSquaredError: 0.8480 - loss: 0.7202 - val_RootMeanSquaredError: 0.7540 - val_loss: 0.5685\n",
      "Epoch 3/20\n",
      "\u001b[1m363/363\u001b[0m \u001b[32m━━━━━━━━━━━━━━━━━━━━\u001b[0m\u001b[37m\u001b[0m \u001b[1m1s\u001b[0m 2ms/step - RootMeanSquaredError: 0.7738 - loss: 0.5996 - val_RootMeanSquaredError: 0.7070 - val_loss: 0.4998\n",
      "Epoch 4/20\n",
      "\u001b[1m363/363\u001b[0m \u001b[32m━━━━━━━━━━━━━━━━━━━━\u001b[0m\u001b[37m\u001b[0m \u001b[1m1s\u001b[0m 2ms/step - RootMeanSquaredError: 0.7454 - loss: 0.5564 - val_RootMeanSquaredError: 0.6839 - val_loss: 0.4677\n",
      "Epoch 5/20\n",
      "\u001b[1m363/363\u001b[0m \u001b[32m━━━━━━━━━━━━━━━━━━━━\u001b[0m\u001b[37m\u001b[0m \u001b[1m1s\u001b[0m 2ms/step - RootMeanSquaredError: 0.7235 - loss: 0.5243 - val_RootMeanSquaredError: 0.6667 - val_loss: 0.4445\n",
      "Epoch 6/20\n",
      "\u001b[1m363/363\u001b[0m \u001b[32m━━━━━━━━━━━━━━━━━━━━\u001b[0m\u001b[37m\u001b[0m \u001b[1m1s\u001b[0m 2ms/step - RootMeanSquaredError: 0.7063 - loss: 0.4996 - val_RootMeanSquaredError: 0.6538 - val_loss: 0.4274\n",
      "Epoch 7/20\n",
      "\u001b[1m363/363\u001b[0m \u001b[32m━━━━━━━━━━━━━━━━━━━━\u001b[0m\u001b[37m\u001b[0m \u001b[1m1s\u001b[0m 2ms/step - RootMeanSquaredError: 0.6929 - loss: 0.4808 - val_RootMeanSquaredError: 0.6453 - val_loss: 0.4164\n",
      "Epoch 8/20\n",
      "\u001b[1m363/363\u001b[0m \u001b[32m━━━━━━━━━━━━━━━━━━━━\u001b[0m\u001b[37m\u001b[0m \u001b[1m1s\u001b[0m 3ms/step - RootMeanSquaredError: 0.6825 - loss: 0.4664 - val_RootMeanSquaredError: 0.6410 - val_loss: 0.4109\n",
      "Epoch 9/20\n",
      "\u001b[1m363/363\u001b[0m \u001b[32m━━━━━━━━━━━━━━━━━━━━\u001b[0m\u001b[37m\u001b[0m \u001b[1m1s\u001b[0m 3ms/step - RootMeanSquaredError: 0.6741 - loss: 0.4550 - val_RootMeanSquaredError: 0.6391 - val_loss: 0.4085\n",
      "Epoch 10/20\n",
      "\u001b[1m363/363\u001b[0m \u001b[32m━━━━━━━━━━━━━━━━━━━━\u001b[0m\u001b[37m\u001b[0m \u001b[1m1s\u001b[0m 2ms/step - RootMeanSquaredError: 0.6672 - loss: 0.4457 - val_RootMeanSquaredError: 0.6379 - val_loss: 0.4069\n",
      "Epoch 11/20\n",
      "\u001b[1m363/363\u001b[0m \u001b[32m━━━━━━━━━━━━━━━━━━━━\u001b[0m\u001b[37m\u001b[0m \u001b[1m1s\u001b[0m 2ms/step - RootMeanSquaredError: 0.6614 - loss: 0.4379 - val_RootMeanSquaredError: 0.6370 - val_loss: 0.4058\n",
      "Epoch 12/20\n",
      "\u001b[1m363/363\u001b[0m \u001b[32m━━━━━━━━━━━━━━━━━━━━\u001b[0m\u001b[37m\u001b[0m \u001b[1m1s\u001b[0m 3ms/step - RootMeanSquaredError: 0.6564 - loss: 0.4313 - val_RootMeanSquaredError: 0.6360 - val_loss: 0.4045\n",
      "Epoch 13/20\n",
      "\u001b[1m363/363\u001b[0m \u001b[32m━━━━━━━━━━━━━━━━━━━━\u001b[0m\u001b[37m\u001b[0m \u001b[1m1s\u001b[0m 3ms/step - RootMeanSquaredError: 0.6519 - loss: 0.4254 - val_RootMeanSquaredError: 0.6348 - val_loss: 0.4030\n",
      "Epoch 14/20\n",
      "\u001b[1m363/363\u001b[0m \u001b[32m━━━━━━━━━━━━━━━━━━━━\u001b[0m\u001b[37m\u001b[0m \u001b[1m1s\u001b[0m 2ms/step - RootMeanSquaredError: 0.6474 - loss: 0.4195 - val_RootMeanSquaredError: 0.6350 - val_loss: 0.4032\n",
      "Epoch 15/20\n",
      "\u001b[1m363/363\u001b[0m \u001b[32m━━━━━━━━━━━━━━━━━━━━\u001b[0m\u001b[37m\u001b[0m \u001b[1m1s\u001b[0m 3ms/step - RootMeanSquaredError: 0.6437 - loss: 0.4147 - val_RootMeanSquaredError: 0.6357 - val_loss: 0.4041\n",
      "Epoch 16/20\n",
      "\u001b[1m363/363\u001b[0m \u001b[32m━━━━━━━━━━━━━━━━━━━━\u001b[0m\u001b[37m\u001b[0m \u001b[1m1s\u001b[0m 3ms/step - RootMeanSquaredError: 0.6406 - loss: 0.4108 - val_RootMeanSquaredError: 0.6367 - val_loss: 0.4054\n",
      "Epoch 17/20\n",
      "\u001b[1m363/363\u001b[0m \u001b[32m━━━━━━━━━━━━━━━━━━━━\u001b[0m\u001b[37m\u001b[0m \u001b[1m1s\u001b[0m 2ms/step - RootMeanSquaredError: 0.6379 - loss: 0.4074 - val_RootMeanSquaredError: 0.6343 - val_loss: 0.4023\n",
      "Epoch 18/20\n",
      "\u001b[1m363/363\u001b[0m \u001b[32m━━━━━━━━━━━━━━━━━━━━\u001b[0m\u001b[37m\u001b[0m \u001b[1m1s\u001b[0m 2ms/step - RootMeanSquaredError: 0.6356 - loss: 0.4044 - val_RootMeanSquaredError: 0.6324 - val_loss: 0.3999\n",
      "Epoch 19/20\n",
      "\u001b[1m363/363\u001b[0m \u001b[32m━━━━━━━━━━━━━━━━━━━━\u001b[0m\u001b[37m\u001b[0m \u001b[1m1s\u001b[0m 2ms/step - RootMeanSquaredError: 0.6335 - loss: 0.4017 - val_RootMeanSquaredError: 0.6311 - val_loss: 0.3983\n",
      "Epoch 20/20\n",
      "\u001b[1m363/363\u001b[0m \u001b[32m━━━━━━━━━━━━━━━━━━━━\u001b[0m\u001b[37m\u001b[0m \u001b[1m1s\u001b[0m 3ms/step - RootMeanSquaredError: 0.6316 - loss: 0.3992 - val_RootMeanSquaredError: 0.6300 - val_loss: 0.3969\n"
     ]
    }
   ],
   "source": [
    "tensorboard_cb = tf.keras.callbacks.TensorBoard(run_logdir,\n",
    "                                                profile_batch=(100, 200))\n",
    "history = model.fit(X_train, y_train, epochs=20,\n",
    "                    validation_data=(X_valid, y_valid),\n",
    "                    callbacks=[tensorboard_cb])"
   ]
  },
  {
   "cell_type": "code",
   "execution_count": 118,
   "id": "d7d49312-5527-4159-9971-dcc3fe741c36",
   "metadata": {},
   "outputs": [
    {
     "name": "stdout",
     "output_type": "stream",
     "text": [
      "my_logs\n",
      " run_2025_03_08_11_15_18\n",
      "  plugins\n",
      "   profile\n",
      "    2025_03_08_05_45_27\n",
      "     MYLAPI.xplane.pb\n",
      "  train\n",
      "   events.out.tfevents.1741412726.MYLAPI.16376.4.v2\n",
      "  validation\n",
      "   events.out.tfevents.1741412727.MYLAPI.16376.5.v2\n"
     ]
    }
   ],
   "source": [
    "print(\"my_logs\")\n",
    "for path in sorted(Path(\"my_logs\").glob(\"**/*\")):\n",
    "    print(\" \"*(len(path.parts)-1)+path.parts[-1])"
   ]
  },
  {
   "cell_type": "code",
   "execution_count": 119,
   "id": "91576283-1b0c-4c4b-96eb-46145e0a9628",
   "metadata": {},
   "outputs": [
    {
     "data": {
      "text/html": [
       "\n",
       "      <iframe id=\"tensorboard-frame-fd81c55d25637ec8\" width=\"100%\" height=\"800\" frameborder=\"0\">\n",
       "      </iframe>\n",
       "      <script>\n",
       "        (function() {\n",
       "          const frame = document.getElementById(\"tensorboard-frame-fd81c55d25637ec8\");\n",
       "          const url = new URL(\"/\", window.location);\n",
       "          const port = 6006;\n",
       "          if (port) {\n",
       "            url.port = port;\n",
       "          }\n",
       "          frame.src = url;\n",
       "        })();\n",
       "      </script>\n",
       "    "
      ],
      "text/plain": [
       "<IPython.core.display.HTML object>"
      ]
     },
     "metadata": {},
     "output_type": "display_data"
    }
   ],
   "source": [
    "%load_ext tensorboard\n",
    "%tensorboard --logdir=./my_logs"
   ]
  },
  {
   "cell_type": "code",
   "execution_count": 121,
   "id": "68bb14a8-5a36-442e-80e8-e8c5d63efcd2",
   "metadata": {},
   "outputs": [],
   "source": [
    "test_logdir = get_run_logdir()\n",
    "writer = tf.summary.create_file_writer(str(test_logdir))\n",
    "with writer.as_default():\n",
    "    for step in range(1,1000+1):\n",
    "        tf.summary.scalar(\"my_scaler\",np.sin(step/10),step=step)\n",
    "        data = (np.random.randn(100)+2) * step/100\n",
    "        tf.summary.histogram(\"my_hist\",data,buckets=50,step=step)\n",
    "        images = np.random.rand(2,32,32,3)*step/100\n",
    "        tf.summary.image(\"my_images\",images,step=step)\n",
    "        texts = [\"The step is\" +str(step),\"Its square is \"+str(step**2)]\n",
    "        tf.summary.text(\"my_text\",texts,step=step)\n",
    "        since_wave = tf.math.sin(tf.range(12000)/48000*2*np.pi*step)\n",
    "        audio = tf.reshape(tf.cast(since_wave,tf.float32),[1,-1,1])\n",
    "        tf.summary.audio(\"my_audio\",audio,sample_rate=48000,step=step)"
   ]
  },
  {
   "cell_type": "markdown",
   "id": "ab96418b-bf6c-4060-9e04-b0d93201da9e",
   "metadata": {},
   "source": [
    "### **Fine-Tuning Neural Network Hyperparameters**"
   ]
  },
  {
   "cell_type": "code",
   "execution_count": 125,
   "id": "dde03ec0-05a8-4b1a-81f7-8c5b484fbcab",
   "metadata": {},
   "outputs": [
    {
     "name": "stdout",
     "output_type": "stream",
     "text": [
      "Collecting keras_tuner\n",
      "  Downloading keras_tuner-1.4.7-py3-none-any.whl.metadata (5.4 kB)\n",
      "Requirement already satisfied: keras in c:\\users\\acer\\ml_path\\my_env\\lib\\site-packages (from keras_tuner) (3.5.0)\n",
      "Requirement already satisfied: packaging in c:\\users\\acer\\ml_path\\my_env\\lib\\site-packages (from keras_tuner) (23.2)\n",
      "Requirement already satisfied: requests in c:\\users\\acer\\ml_path\\my_env\\lib\\site-packages (from keras_tuner) (2.31.0)\n",
      "Collecting kt-legacy (from keras_tuner)\n",
      "  Downloading kt_legacy-1.0.5-py3-none-any.whl.metadata (221 bytes)\n",
      "Requirement already satisfied: absl-py in c:\\users\\acer\\ml_path\\my_env\\lib\\site-packages (from keras->keras_tuner) (2.1.0)\n",
      "Requirement already satisfied: numpy in c:\\users\\acer\\ml_path\\my_env\\lib\\site-packages (from keras->keras_tuner) (1.26.0)\n",
      "Requirement already satisfied: rich in c:\\users\\acer\\ml_path\\my_env\\lib\\site-packages (from keras->keras_tuner) (13.7.1)\n",
      "Requirement already satisfied: namex in c:\\users\\acer\\ml_path\\my_env\\lib\\site-packages (from keras->keras_tuner) (0.0.8)\n",
      "Requirement already satisfied: h5py in c:\\users\\acer\\ml_path\\my_env\\lib\\site-packages (from keras->keras_tuner) (3.11.0)\n",
      "Requirement already satisfied: optree in c:\\users\\acer\\ml_path\\my_env\\lib\\site-packages (from keras->keras_tuner) (0.12.1)\n",
      "Requirement already satisfied: ml-dtypes in c:\\users\\acer\\ml_path\\my_env\\lib\\site-packages (from keras->keras_tuner) (0.4.0)\n",
      "Requirement already satisfied: charset-normalizer<4,>=2 in c:\\users\\acer\\ml_path\\my_env\\lib\\site-packages (from requests->keras_tuner) (3.3.0)\n",
      "Requirement already satisfied: idna<4,>=2.5 in c:\\users\\acer\\ml_path\\my_env\\lib\\site-packages (from requests->keras_tuner) (3.4)\n",
      "Requirement already satisfied: urllib3<3,>=1.21.1 in c:\\users\\acer\\ml_path\\my_env\\lib\\site-packages (from requests->keras_tuner) (2.0.6)\n",
      "Requirement already satisfied: certifi>=2017.4.17 in c:\\users\\acer\\ml_path\\my_env\\lib\\site-packages (from requests->keras_tuner) (2023.7.22)\n",
      "Requirement already satisfied: typing-extensions>=4.5.0 in c:\\users\\acer\\ml_path\\my_env\\lib\\site-packages (from optree->keras->keras_tuner) (4.8.0)\n",
      "Requirement already satisfied: markdown-it-py>=2.2.0 in c:\\users\\acer\\ml_path\\my_env\\lib\\site-packages (from rich->keras->keras_tuner) (3.0.0)\n",
      "Requirement already satisfied: pygments<3.0.0,>=2.13.0 in c:\\users\\acer\\ml_path\\my_env\\lib\\site-packages (from rich->keras->keras_tuner) (2.16.1)\n",
      "Requirement already satisfied: mdurl~=0.1 in c:\\users\\acer\\ml_path\\my_env\\lib\\site-packages (from markdown-it-py>=2.2.0->rich->keras->keras_tuner) (0.1.2)\n",
      "Downloading keras_tuner-1.4.7-py3-none-any.whl (129 kB)\n",
      "Downloading kt_legacy-1.0.5-py3-none-any.whl (9.6 kB)\n",
      "Installing collected packages: kt-legacy, keras_tuner\n",
      "Successfully installed keras_tuner-1.4.7 kt-legacy-1.0.5\n"
     ]
    },
    {
     "name": "stderr",
     "output_type": "stream",
     "text": [
      "\n",
      "[notice] A new release of pip is available: 24.2 -> 25.0.1\n",
      "[notice] To update, run: python.exe -m pip install --upgrade pip\n"
     ]
    }
   ],
   "source": [
    "! pip install keras_tuner"
   ]
  },
  {
   "cell_type": "code",
   "execution_count": 132,
   "id": "6453a819-93f8-4876-8897-b09ca9be68e2",
   "metadata": {},
   "outputs": [],
   "source": [
    "tf.keras.backend.clear_session()\n",
    "tf.random.set_seed(42)"
   ]
  },
  {
   "cell_type": "code",
   "execution_count": 133,
   "id": "6e34e8dd-c9fa-445c-830a-59e9e4671da5",
   "metadata": {},
   "outputs": [],
   "source": [
    "import keras_tuner as kt"
   ]
  },
  {
   "cell_type": "code",
   "execution_count": 145,
   "id": "4e90000c-bd9b-4fb5-a8a8-90b7d9a62f8c",
   "metadata": {},
   "outputs": [],
   "source": [
    "def build_model(hp):\n",
    "    n_hidden = hp.Int(\"n_hidden\",min_value=0,max_value=8,default=2)\n",
    "    n_neurons = hp.Int(\"n_neurons\",min_value=16,max_value=256)\n",
    "    learning_rate = hp.Float(\"learning_rate\",min_value=1e-4,max_value=1e-2,sampling=\"log\")\n",
    "\n",
    "    optimizer = hp.Choice(\"optimizer\",values=[\"sgd\",\"adam\"])\n",
    "    if optimizer == \"sgd\":\n",
    "        optimizer = tf.keras.optimizers.SGD(learning_rate=learning_rate)\n",
    "    else:\n",
    "        optimizer = tf.keras.optimizers.Adam(learning_rate=learning_rate)\n",
    "\n",
    "    model = tf.keras.Sequential()\n",
    "    model.add(tf.keras.layers.Flatten())\n",
    "    for _ in range(n_hidden):\n",
    "        model.add(tf.keras.layers.Dense(n_neurons,activation=\"relu\"))\n",
    "\n",
    "    model.add(tf.keras.layers.Dense(10,activation=\"softmax\"))\n",
    "    model.compile(loss=\"sparse_categorical_crossentropy\",optimizer=optimizer,metrics=[\"accuracy\"])\n",
    "    return model"
   ]
  },
  {
   "cell_type": "code",
   "execution_count": 143,
   "id": "546ac8a3-1204-43a7-aecf-878d81e2ced4",
   "metadata": {},
   "outputs": [],
   "source": [
    "(X_train_full, y_train_full), (X_test, y_test) = fashion_mnist\n",
    "X_train, y_train = X_train_full[:-5000], y_train_full[:-5000]\n",
    "X_valid, y_valid = X_train_full[-5000:], y_train_full[-5000:]"
   ]
  },
  {
   "cell_type": "code",
   "execution_count": 146,
   "id": "e55490ca-c691-4619-afcf-2dfe02e7a9cb",
   "metadata": {},
   "outputs": [
    {
     "name": "stdout",
     "output_type": "stream",
     "text": [
      "Trial 5 Complete [00h 00m 43s]\n",
      "val_accuracy: 0.823199987411499\n",
      "\n",
      "Best val_accuracy So Far: 0.8539999723434448\n",
      "Total elapsed time: 00h 03m 55s\n"
     ]
    }
   ],
   "source": [
    "random_search_tuner = kt.RandomSearch(\n",
    "    build_model,objective = \"val_accuracy\",max_trials=5,overwrite=True,\n",
    "    directory=\"my_fashion_mnist\",project_name=\"my_rnd_search\",seed=42)\n",
    "random_search_tuner.search(X_train,y_train,epochs=10,validation_data=[X_valid,y_valid])"
   ]
  },
  {
   "cell_type": "code",
   "execution_count": 147,
   "id": "4f936ff9-9ecc-409d-ac90-0fcc15a1d7c9",
   "metadata": {},
   "outputs": [],
   "source": [
    "top3_models = random_search_tuner.get_best_models(num_models=3)\n",
    "best_model = top3_models[0]"
   ]
  },
  {
   "cell_type": "code",
   "execution_count": 171,
   "id": "003037ad-0c34-4e75-b629-6c7578c4d2df",
   "metadata": {},
   "outputs": [
    {
     "name": "stdout",
     "output_type": "stream",
     "text": [
      "{'n_hidden': 8, 'n_neurons': 37, 'learning_rate': 0.008547485565344062, 'optimizer': 'sgd'}\n",
      "{'n_hidden': 7, 'n_neurons': 100, 'learning_rate': 0.0012482904754698163, 'optimizer': 'sgd'}\n",
      "{'n_hidden': 5, 'n_neurons': 70, 'learning_rate': 0.00041268008323824807, 'optimizer': 'sgd'}\n"
     ]
    }
   ],
   "source": [
    "top3_params = random_search_tuner.get_best_hyperparameters(num_trials=3)\n",
    "for i in range(len(top3_params)):\n",
    "    print(top3_params[i].values)"
   ]
  },
  {
   "cell_type": "code",
   "execution_count": 172,
   "id": "5731d2b4-9da1-4241-bc7f-feb20abfe8ad",
   "metadata": {},
   "outputs": [
    {
     "name": "stdout",
     "output_type": "stream",
     "text": [
      "Trial 3 summary\n",
      "Hyperparameters:\n",
      "n_hidden: 8\n",
      "n_neurons: 37\n",
      "learning_rate: 0.008547485565344062\n",
      "optimizer: sgd\n",
      "Score: 0.8539999723434448\n"
     ]
    }
   ],
   "source": [
    "best_trial = random_search_tuner.oracle.get_best_trials(num_trials=1)[0]\n",
    "best_trial.summary()"
   ]
  },
  {
   "cell_type": "code",
   "execution_count": 173,
   "id": "4f15195b-e625-47dc-95e2-9b28c276e878",
   "metadata": {},
   "outputs": [
    {
     "data": {
      "text/plain": [
       "0.8539999723434448"
      ]
     },
     "execution_count": 173,
     "metadata": {},
     "output_type": "execute_result"
    }
   ],
   "source": [
    "best_trial.metrics.get_last_value(\"val_accuracy\")"
   ]
  },
  {
   "cell_type": "code",
   "execution_count": 175,
   "id": "bb209245-5fc1-46fc-b9b4-f2a55a049bd1",
   "metadata": {},
   "outputs": [
    {
     "name": "stdout",
     "output_type": "stream",
     "text": [
      "Epoch 1/10\n",
      "\u001b[1m1875/1875\u001b[0m \u001b[32m━━━━━━━━━━━━━━━━━━━━\u001b[0m\u001b[37m\u001b[0m \u001b[1m8s\u001b[0m 4ms/step - accuracy: 0.8628 - loss: 0.3765\n",
      "Epoch 2/10\n",
      "\u001b[1m1875/1875\u001b[0m \u001b[32m━━━━━━━━━━━━━━━━━━━━\u001b[0m\u001b[37m\u001b[0m \u001b[1m7s\u001b[0m 4ms/step - accuracy: 0.8652 - loss: 0.3647\n",
      "Epoch 3/10\n",
      "\u001b[1m1875/1875\u001b[0m \u001b[32m━━━━━━━━━━━━━━━━━━━━\u001b[0m\u001b[37m\u001b[0m \u001b[1m10s\u001b[0m 3ms/step - accuracy: 0.8681 - loss: 0.3564\n",
      "Epoch 4/10\n",
      "\u001b[1m1875/1875\u001b[0m \u001b[32m━━━━━━━━━━━━━━━━━━━━\u001b[0m\u001b[37m\u001b[0m \u001b[1m11s\u001b[0m 4ms/step - accuracy: 0.8704 - loss: 0.3526\n",
      "Epoch 5/10\n",
      "\u001b[1m1875/1875\u001b[0m \u001b[32m━━━━━━━━━━━━━━━━━━━━\u001b[0m\u001b[37m\u001b[0m \u001b[1m10s\u001b[0m 4ms/step - accuracy: 0.8715 - loss: 0.3436\n",
      "Epoch 6/10\n",
      "\u001b[1m1875/1875\u001b[0m \u001b[32m━━━━━━━━━━━━━━━━━━━━\u001b[0m\u001b[37m\u001b[0m \u001b[1m7s\u001b[0m 4ms/step - accuracy: 0.8726 - loss: 0.3397\n",
      "Epoch 7/10\n",
      "\u001b[1m1875/1875\u001b[0m \u001b[32m━━━━━━━━━━━━━━━━━━━━\u001b[0m\u001b[37m\u001b[0m \u001b[1m7s\u001b[0m 3ms/step - accuracy: 0.8745 - loss: 0.3346\n",
      "Epoch 8/10\n",
      "\u001b[1m1875/1875\u001b[0m \u001b[32m━━━━━━━━━━━━━━━━━━━━\u001b[0m\u001b[37m\u001b[0m \u001b[1m7s\u001b[0m 3ms/step - accuracy: 0.8762 - loss: 0.3339\n",
      "Epoch 9/10\n",
      "\u001b[1m1875/1875\u001b[0m \u001b[32m━━━━━━━━━━━━━━━━━━━━\u001b[0m\u001b[37m\u001b[0m \u001b[1m11s\u001b[0m 4ms/step - accuracy: 0.8781 - loss: 0.3293\n",
      "Epoch 10/10\n",
      "\u001b[1m1875/1875\u001b[0m \u001b[32m━━━━━━━━━━━━━━━━━━━━\u001b[0m\u001b[37m\u001b[0m \u001b[1m7s\u001b[0m 4ms/step - accuracy: 0.8790 - loss: 0.3234\n",
      "\u001b[1m313/313\u001b[0m \u001b[32m━━━━━━━━━━━━━━━━━━━━\u001b[0m\u001b[37m\u001b[0m \u001b[1m1s\u001b[0m 3ms/step - accuracy: 0.8459 - loss: 0.4299\n"
     ]
    }
   ],
   "source": [
    "best_model.fit(X_train_full,y_train_full,epochs=10)\n",
    "test_loss,test_accuracy = best_model.evaluate(X_test,y_test)"
   ]
  },
  {
   "cell_type": "code",
   "execution_count": 176,
   "id": "48ee1906-1fd6-4572-93f9-515347047ee7",
   "metadata": {},
   "outputs": [
    {
     "data": {
      "text/plain": [
       "(0.4321381449699402, 0.8478000164031982)"
      ]
     },
     "execution_count": 176,
     "metadata": {},
     "output_type": "execute_result"
    }
   ],
   "source": [
    "test_loss,test_accuracy"
   ]
  },
  {
   "cell_type": "code",
   "execution_count": 183,
   "id": "76098678-e82f-4540-a492-25350a564fc4",
   "metadata": {},
   "outputs": [],
   "source": [
    "class MyClassificationHyperModel(kt.HyperModel):\n",
    "    def build(self,hp):\n",
    "        return build_model(hp)\n",
    "    def fit(self,hp,model,X,y,**kwargs):\n",
    "        if hp.Boolean(\"normalize\"):\n",
    "            norm_layer = tf.keras.layers.Normalization()\n",
    "            X = norm_layer(X)\n",
    "        return model.fit(X,y,**kwargs)"
   ]
  },
  {
   "cell_type": "code",
   "execution_count": 184,
   "id": "da159e9f-3acf-420e-ab8b-a88053d5d645",
   "metadata": {},
   "outputs": [],
   "source": [
    "hyperband_tuner = kt.Hyperband(\n",
    "    MyClassificationHyperModel(),objective=\"val_accuracy\",seed=42,\n",
    "    max_epochs=10,factor=3,hyperband_iterations=2,\n",
    "    overwrite=True,directory=\"my_fashion_mnist\",project_name=\"hyperband\")"
   ]
  },
  {
   "cell_type": "code",
   "execution_count": 192,
   "id": "7358634c-eac0-43d4-89e5-36fa897f5734",
   "metadata": {},
   "outputs": [],
   "source": [
    "root_logdir = Path(hyperband_tuner.project_dir) / \"tensorboard\"\n",
    "tensorboard_cb = tf.keras.callbacks.TensorBoard(root_logdir)\n",
    "early_stopping_cb = tf.keras.callbacks.EarlyStopping(patience=2)\n",
    "hyperband_tuner.search(X_train,y_train,epochs=10,validation_data=(X_valid,y_valid),\n",
    "                      callbacks=[early_stopping_cb,tensorboard_cb])"
   ]
  },
  {
   "cell_type": "code",
   "execution_count": 193,
   "id": "f9f7043a-9e43-45f6-b1fd-63a869b071a1",
   "metadata": {},
   "outputs": [
    {
     "data": {
      "text/plain": [
       "Reusing TensorBoard on port 6009 (pid 10316), started 0:00:00 ago. (Use '!kill 10316' to kill it.)"
      ]
     },
     "metadata": {},
     "output_type": "display_data"
    },
    {
     "data": {
      "text/html": [
       "\n",
       "      <iframe id=\"tensorboard-frame-8594a9c5bc6e422d\" width=\"100%\" height=\"800\" frameborder=\"0\">\n",
       "      </iframe>\n",
       "      <script>\n",
       "        (function() {\n",
       "          const frame = document.getElementById(\"tensorboard-frame-8594a9c5bc6e422d\");\n",
       "          const url = new URL(\"/\", window.location);\n",
       "          const port = 6009;\n",
       "          if (port) {\n",
       "            url.port = port;\n",
       "          }\n",
       "          frame.src = url;\n",
       "        })();\n",
       "      </script>\n",
       "    "
      ],
      "text/plain": [
       "<IPython.core.display.HTML object>"
      ]
     },
     "metadata": {},
     "output_type": "display_data"
    }
   ],
   "source": [
    "%tensorboard --logdir {root_logdir}"
   ]
  },
  {
   "cell_type": "code",
   "execution_count": 188,
   "id": "f7bd69c9-416a-4191-b327-5de97624c569",
   "metadata": {},
   "outputs": [
    {
     "name": "stdout",
     "output_type": "stream",
     "text": [
      "The tensorboard extension is already loaded. To reload it, use:\n",
      "  %reload_ext tensorboard\n"
     ]
    },
    {
     "data": {
      "text/html": [
       "\n",
       "      <iframe id=\"tensorboard-frame-9a20d460069d9d67\" width=\"100%\" height=\"800\" frameborder=\"0\">\n",
       "      </iframe>\n",
       "      <script>\n",
       "        (function() {\n",
       "          const frame = document.getElementById(\"tensorboard-frame-9a20d460069d9d67\");\n",
       "          const url = new URL(\"/\", window.location);\n",
       "          const port = 6007;\n",
       "          if (port) {\n",
       "            url.port = port;\n",
       "          }\n",
       "          frame.src = url;\n",
       "        })();\n",
       "      </script>\n",
       "    "
      ],
      "text/plain": [
       "<IPython.core.display.HTML object>"
      ]
     },
     "metadata": {},
     "output_type": "display_data"
    }
   ],
   "source": [
    "%load_ext tensorboard\n",
    "%tensorboard --logdir=./my_fashion_mnist/hyperband/tensorboard"
   ]
  },
  {
   "cell_type": "code",
   "execution_count": null,
   "id": "27e49b67-333d-4830-acac-f3881ded5105",
   "metadata": {},
   "outputs": [],
   "source": []
  }
 ],
 "metadata": {
  "kernelspec": {
   "display_name": "Python 3 (ipykernel)",
   "language": "python",
   "name": "python3"
  },
  "language_info": {
   "codemirror_mode": {
    "name": "ipython",
    "version": 3
   },
   "file_extension": ".py",
   "mimetype": "text/x-python",
   "name": "python",
   "nbconvert_exporter": "python",
   "pygments_lexer": "ipython3",
   "version": "3.10.11"
  }
 },
 "nbformat": 4,
 "nbformat_minor": 5
}
